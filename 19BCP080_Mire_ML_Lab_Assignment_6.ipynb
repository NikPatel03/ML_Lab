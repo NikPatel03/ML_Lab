{
  "cells": [
    {
      "cell_type": "markdown",
      "source": [
        "\n",
        "\n",
        "---\n",
        "\n",
        "\n",
        "**<center>Pandit Deendayal Energy University**<br>\n",
        "**School of Technology**<br>\n",
        "**Machine Learning Lab (20CP401P)**<br>\n",
        "**B.Tech-Computer Science & Engineering (Sem-VII)**<br>\n",
        "\n",
        "\n",
        "Name: Mire Kishorkumar Patel<br>\n",
        "Roll No.: 19BCP080<br>\n",
        "Branch: Computer Science & Engineering<br>\n",
        "\n",
        "Lab 6 Assignment<br>\n",
        "Perform handwritten digit classification using SVM and neural network model\n",
        "\n",
        "\n",
        "---\n"
      ],
      "metadata": {
        "id": "VjcS2eOLBnwp"
      },
      "id": "VjcS2eOLBnwp"
    },
    {
      "cell_type": "markdown",
      "source": [
        "# **MACHINE LEARNING LAB - 6: Perform handwritten digit classification using SVM and neural network model**"
      ],
      "metadata": {
        "id": "fA9HyHDFf-1D"
      },
      "id": "fA9HyHDFf-1D"
    },
    {
      "cell_type": "markdown",
      "source": [
        "**• PROBLEM STATEMENT : Perform handwritten digit classification using SVM and neural network model**"
      ],
      "metadata": {
        "id": "zCGKDqMWt6gR"
      },
      "id": "zCGKDqMWt6gR"
    },
    {
      "cell_type": "markdown",
      "source": [
        "**Import Libraries**"
      ],
      "metadata": {
        "id": "V8bfBs9DE69b"
      },
      "id": "V8bfBs9DE69b"
    },
    {
      "cell_type": "code",
      "execution_count": null,
      "id": "39b3f963",
      "metadata": {
        "execution": {
          "iopub.execute_input": "2022-11-14T10:37:05.630322Z",
          "iopub.status.busy": "2022-11-14T10:37:05.629894Z",
          "iopub.status.idle": "2022-11-14T10:37:06.697936Z",
          "shell.execute_reply": "2022-11-14T10:37:06.696563Z"
        },
        "papermill": {
          "duration": 1.078139,
          "end_time": "2022-11-14T10:37:06.700501",
          "exception": false,
          "start_time": "2022-11-14T10:37:05.622362",
          "status": "completed"
        },
        "tags": [],
        "id": "39b3f963"
      },
      "outputs": [],
      "source": [
        "import pandas as pd\n",
        "import numpy as np\n",
        "import os\n",
        "from sklearn.model_selection import train_test_split\n",
        "from sklearn import metrics\n",
        "from sklearn.model_selection import GridSearchCV\n",
        "from sklearn.svm import SVC\n",
        "import matplotlib.pyplot as plt\n",
        "from sklearn.metrics import classification_report\n",
        "from sklearn.metrics import confusion_matrix\n",
        "from sklearn.neural_network import MLPClassifier"
      ]
    },
    {
      "cell_type": "code",
      "execution_count": null,
      "id": "5e7526a7",
      "metadata": {
        "execution": {
          "iopub.execute_input": "2022-11-14T10:37:06.712120Z",
          "iopub.status.busy": "2022-11-14T10:37:06.711766Z",
          "iopub.status.idle": "2022-11-14T10:37:06.716465Z",
          "shell.execute_reply": "2022-11-14T10:37:06.715288Z"
        },
        "papermill": {
          "duration": 0.012499,
          "end_time": "2022-11-14T10:37:06.718357",
          "exception": false,
          "start_time": "2022-11-14T10:37:06.705858",
          "status": "completed"
        },
        "tags": [],
        "id": "5e7526a7"
      },
      "outputs": [],
      "source": [
        "import warnings\n",
        "warnings.filterwarnings(\"ignore\")"
      ]
    },
    {
      "cell_type": "markdown",
      "source": [
        "**Load the data**"
      ],
      "metadata": {
        "id": "KMRNw31XE-wd"
      },
      "id": "KMRNw31XE-wd"
    },
    {
      "cell_type": "code",
      "source": [
        "os.environ['KAGGLE_CONFIG_DIR'] ='/content'"
      ],
      "metadata": {
        "id": "nxIh5kG3uOvH"
      },
      "id": "nxIh5kG3uOvH",
      "execution_count": null,
      "outputs": []
    },
    {
      "cell_type": "code",
      "source": [
        "!kaggle competitions download -c digit-recognizer\n",
        "!unzip \\*.zip && rm *.zip"
      ],
      "metadata": {
        "colab": {
          "base_uri": "https://localhost:8080/"
        },
        "id": "3-YYlk_OuRDS",
        "outputId": "acffe203-05ec-4cc0-ab62-05c0690eb457"
      },
      "id": "3-YYlk_OuRDS",
      "execution_count": null,
      "outputs": [
        {
          "output_type": "stream",
          "name": "stdout",
          "text": [
            "Warning: Your Kaggle API key is readable by other users on this system! To fix this, you can run 'chmod 600 /content/kaggle.json'\n",
            "Downloading digit-recognizer.zip to /content\n",
            "100% 15.3M/15.3M [00:01<00:00, 22.0MB/s]\n",
            "100% 15.3M/15.3M [00:01<00:00, 12.7MB/s]\n",
            "Archive:  digit-recognizer.zip\n",
            "  inflating: sample_submission.csv   \n",
            "  inflating: test.csv                \n",
            "  inflating: train.csv               \n"
          ]
        }
      ]
    },
    {
      "cell_type": "code",
      "execution_count": null,
      "id": "e4719ca1",
      "metadata": {
        "execution": {
          "iopub.execute_input": "2022-11-14T10:37:06.729706Z",
          "iopub.status.busy": "2022-11-14T10:37:06.729352Z",
          "iopub.status.idle": "2022-11-14T10:37:09.301981Z",
          "shell.execute_reply": "2022-11-14T10:37:09.300760Z"
        },
        "papermill": {
          "duration": 2.580481,
          "end_time": "2022-11-14T10:37:09.303867",
          "exception": false,
          "start_time": "2022-11-14T10:37:06.723386",
          "status": "completed"
        },
        "tags": [],
        "colab": {
          "base_uri": "https://localhost:8080/",
          "height": 299
        },
        "id": "e4719ca1",
        "outputId": "b56cd98c-6fe2-4338-84a6-547c9e9fc2f9"
      },
      "outputs": [
        {
          "output_type": "execute_result",
          "data": {
            "text/plain": [
              "   label  pixel0  pixel1  pixel2  pixel3  pixel4  pixel5  pixel6  pixel7  \\\n",
              "0      1       0       0       0       0       0       0       0       0   \n",
              "1      0       0       0       0       0       0       0       0       0   \n",
              "2      1       0       0       0       0       0       0       0       0   \n",
              "3      4       0       0       0       0       0       0       0       0   \n",
              "4      0       0       0       0       0       0       0       0       0   \n",
              "\n",
              "   pixel8  ...  pixel774  pixel775  pixel776  pixel777  pixel778  pixel779  \\\n",
              "0       0  ...         0         0         0         0         0         0   \n",
              "1       0  ...         0         0         0         0         0         0   \n",
              "2       0  ...         0         0         0         0         0         0   \n",
              "3       0  ...         0         0         0         0         0         0   \n",
              "4       0  ...         0         0         0         0         0         0   \n",
              "\n",
              "   pixel780  pixel781  pixel782  pixel783  \n",
              "0         0         0         0         0  \n",
              "1         0         0         0         0  \n",
              "2         0         0         0         0  \n",
              "3         0         0         0         0  \n",
              "4         0         0         0         0  \n",
              "\n",
              "[5 rows x 785 columns]"
            ],
            "text/html": [
              "\n",
              "  <div id=\"df-385608fd-9ffa-44cc-bafa-e7416497aa48\">\n",
              "    <div class=\"colab-df-container\">\n",
              "      <div>\n",
              "<style scoped>\n",
              "    .dataframe tbody tr th:only-of-type {\n",
              "        vertical-align: middle;\n",
              "    }\n",
              "\n",
              "    .dataframe tbody tr th {\n",
              "        vertical-align: top;\n",
              "    }\n",
              "\n",
              "    .dataframe thead th {\n",
              "        text-align: right;\n",
              "    }\n",
              "</style>\n",
              "<table border=\"1\" class=\"dataframe\">\n",
              "  <thead>\n",
              "    <tr style=\"text-align: right;\">\n",
              "      <th></th>\n",
              "      <th>label</th>\n",
              "      <th>pixel0</th>\n",
              "      <th>pixel1</th>\n",
              "      <th>pixel2</th>\n",
              "      <th>pixel3</th>\n",
              "      <th>pixel4</th>\n",
              "      <th>pixel5</th>\n",
              "      <th>pixel6</th>\n",
              "      <th>pixel7</th>\n",
              "      <th>pixel8</th>\n",
              "      <th>...</th>\n",
              "      <th>pixel774</th>\n",
              "      <th>pixel775</th>\n",
              "      <th>pixel776</th>\n",
              "      <th>pixel777</th>\n",
              "      <th>pixel778</th>\n",
              "      <th>pixel779</th>\n",
              "      <th>pixel780</th>\n",
              "      <th>pixel781</th>\n",
              "      <th>pixel782</th>\n",
              "      <th>pixel783</th>\n",
              "    </tr>\n",
              "  </thead>\n",
              "  <tbody>\n",
              "    <tr>\n",
              "      <th>0</th>\n",
              "      <td>1</td>\n",
              "      <td>0</td>\n",
              "      <td>0</td>\n",
              "      <td>0</td>\n",
              "      <td>0</td>\n",
              "      <td>0</td>\n",
              "      <td>0</td>\n",
              "      <td>0</td>\n",
              "      <td>0</td>\n",
              "      <td>0</td>\n",
              "      <td>...</td>\n",
              "      <td>0</td>\n",
              "      <td>0</td>\n",
              "      <td>0</td>\n",
              "      <td>0</td>\n",
              "      <td>0</td>\n",
              "      <td>0</td>\n",
              "      <td>0</td>\n",
              "      <td>0</td>\n",
              "      <td>0</td>\n",
              "      <td>0</td>\n",
              "    </tr>\n",
              "    <tr>\n",
              "      <th>1</th>\n",
              "      <td>0</td>\n",
              "      <td>0</td>\n",
              "      <td>0</td>\n",
              "      <td>0</td>\n",
              "      <td>0</td>\n",
              "      <td>0</td>\n",
              "      <td>0</td>\n",
              "      <td>0</td>\n",
              "      <td>0</td>\n",
              "      <td>0</td>\n",
              "      <td>...</td>\n",
              "      <td>0</td>\n",
              "      <td>0</td>\n",
              "      <td>0</td>\n",
              "      <td>0</td>\n",
              "      <td>0</td>\n",
              "      <td>0</td>\n",
              "      <td>0</td>\n",
              "      <td>0</td>\n",
              "      <td>0</td>\n",
              "      <td>0</td>\n",
              "    </tr>\n",
              "    <tr>\n",
              "      <th>2</th>\n",
              "      <td>1</td>\n",
              "      <td>0</td>\n",
              "      <td>0</td>\n",
              "      <td>0</td>\n",
              "      <td>0</td>\n",
              "      <td>0</td>\n",
              "      <td>0</td>\n",
              "      <td>0</td>\n",
              "      <td>0</td>\n",
              "      <td>0</td>\n",
              "      <td>...</td>\n",
              "      <td>0</td>\n",
              "      <td>0</td>\n",
              "      <td>0</td>\n",
              "      <td>0</td>\n",
              "      <td>0</td>\n",
              "      <td>0</td>\n",
              "      <td>0</td>\n",
              "      <td>0</td>\n",
              "      <td>0</td>\n",
              "      <td>0</td>\n",
              "    </tr>\n",
              "    <tr>\n",
              "      <th>3</th>\n",
              "      <td>4</td>\n",
              "      <td>0</td>\n",
              "      <td>0</td>\n",
              "      <td>0</td>\n",
              "      <td>0</td>\n",
              "      <td>0</td>\n",
              "      <td>0</td>\n",
              "      <td>0</td>\n",
              "      <td>0</td>\n",
              "      <td>0</td>\n",
              "      <td>...</td>\n",
              "      <td>0</td>\n",
              "      <td>0</td>\n",
              "      <td>0</td>\n",
              "      <td>0</td>\n",
              "      <td>0</td>\n",
              "      <td>0</td>\n",
              "      <td>0</td>\n",
              "      <td>0</td>\n",
              "      <td>0</td>\n",
              "      <td>0</td>\n",
              "    </tr>\n",
              "    <tr>\n",
              "      <th>4</th>\n",
              "      <td>0</td>\n",
              "      <td>0</td>\n",
              "      <td>0</td>\n",
              "      <td>0</td>\n",
              "      <td>0</td>\n",
              "      <td>0</td>\n",
              "      <td>0</td>\n",
              "      <td>0</td>\n",
              "      <td>0</td>\n",
              "      <td>0</td>\n",
              "      <td>...</td>\n",
              "      <td>0</td>\n",
              "      <td>0</td>\n",
              "      <td>0</td>\n",
              "      <td>0</td>\n",
              "      <td>0</td>\n",
              "      <td>0</td>\n",
              "      <td>0</td>\n",
              "      <td>0</td>\n",
              "      <td>0</td>\n",
              "      <td>0</td>\n",
              "    </tr>\n",
              "  </tbody>\n",
              "</table>\n",
              "<p>5 rows × 785 columns</p>\n",
              "</div>\n",
              "      <button class=\"colab-df-convert\" onclick=\"convertToInteractive('df-385608fd-9ffa-44cc-bafa-e7416497aa48')\"\n",
              "              title=\"Convert this dataframe to an interactive table.\"\n",
              "              style=\"display:none;\">\n",
              "        \n",
              "  <svg xmlns=\"http://www.w3.org/2000/svg\" height=\"24px\"viewBox=\"0 0 24 24\"\n",
              "       width=\"24px\">\n",
              "    <path d=\"M0 0h24v24H0V0z\" fill=\"none\"/>\n",
              "    <path d=\"M18.56 5.44l.94 2.06.94-2.06 2.06-.94-2.06-.94-.94-2.06-.94 2.06-2.06.94zm-11 1L8.5 8.5l.94-2.06 2.06-.94-2.06-.94L8.5 2.5l-.94 2.06-2.06.94zm10 10l.94 2.06.94-2.06 2.06-.94-2.06-.94-.94-2.06-.94 2.06-2.06.94z\"/><path d=\"M17.41 7.96l-1.37-1.37c-.4-.4-.92-.59-1.43-.59-.52 0-1.04.2-1.43.59L10.3 9.45l-7.72 7.72c-.78.78-.78 2.05 0 2.83L4 21.41c.39.39.9.59 1.41.59.51 0 1.02-.2 1.41-.59l7.78-7.78 2.81-2.81c.8-.78.8-2.07 0-2.86zM5.41 20L4 18.59l7.72-7.72 1.47 1.35L5.41 20z\"/>\n",
              "  </svg>\n",
              "      </button>\n",
              "      \n",
              "  <style>\n",
              "    .colab-df-container {\n",
              "      display:flex;\n",
              "      flex-wrap:wrap;\n",
              "      gap: 12px;\n",
              "    }\n",
              "\n",
              "    .colab-df-convert {\n",
              "      background-color: #E8F0FE;\n",
              "      border: none;\n",
              "      border-radius: 50%;\n",
              "      cursor: pointer;\n",
              "      display: none;\n",
              "      fill: #1967D2;\n",
              "      height: 32px;\n",
              "      padding: 0 0 0 0;\n",
              "      width: 32px;\n",
              "    }\n",
              "\n",
              "    .colab-df-convert:hover {\n",
              "      background-color: #E2EBFA;\n",
              "      box-shadow: 0px 1px 2px rgba(60, 64, 67, 0.3), 0px 1px 3px 1px rgba(60, 64, 67, 0.15);\n",
              "      fill: #174EA6;\n",
              "    }\n",
              "\n",
              "    [theme=dark] .colab-df-convert {\n",
              "      background-color: #3B4455;\n",
              "      fill: #D2E3FC;\n",
              "    }\n",
              "\n",
              "    [theme=dark] .colab-df-convert:hover {\n",
              "      background-color: #434B5C;\n",
              "      box-shadow: 0px 1px 3px 1px rgba(0, 0, 0, 0.15);\n",
              "      filter: drop-shadow(0px 1px 2px rgba(0, 0, 0, 0.3));\n",
              "      fill: #FFFFFF;\n",
              "    }\n",
              "  </style>\n",
              "\n",
              "      <script>\n",
              "        const buttonEl =\n",
              "          document.querySelector('#df-385608fd-9ffa-44cc-bafa-e7416497aa48 button.colab-df-convert');\n",
              "        buttonEl.style.display =\n",
              "          google.colab.kernel.accessAllowed ? 'block' : 'none';\n",
              "\n",
              "        async function convertToInteractive(key) {\n",
              "          const element = document.querySelector('#df-385608fd-9ffa-44cc-bafa-e7416497aa48');\n",
              "          const dataTable =\n",
              "            await google.colab.kernel.invokeFunction('convertToInteractive',\n",
              "                                                     [key], {});\n",
              "          if (!dataTable) return;\n",
              "\n",
              "          const docLinkHtml = 'Like what you see? Visit the ' +\n",
              "            '<a target=\"_blank\" href=https://colab.research.google.com/notebooks/data_table.ipynb>data table notebook</a>'\n",
              "            + ' to learn more about interactive tables.';\n",
              "          element.innerHTML = '';\n",
              "          dataTable['output_type'] = 'display_data';\n",
              "          await google.colab.output.renderOutput(dataTable, element);\n",
              "          const docLink = document.createElement('div');\n",
              "          docLink.innerHTML = docLinkHtml;\n",
              "          element.appendChild(docLink);\n",
              "        }\n",
              "      </script>\n",
              "    </div>\n",
              "  </div>\n",
              "  "
            ]
          },
          "metadata": {},
          "execution_count": 8
        }
      ],
      "source": [
        "df = pd.read_csv(\"./train.csv\")\n",
        "df.head()"
      ]
    },
    {
      "cell_type": "code",
      "execution_count": null,
      "id": "b92ace0f",
      "metadata": {
        "execution": {
          "iopub.execute_input": "2022-11-14T10:37:09.315790Z",
          "iopub.status.busy": "2022-11-14T10:37:09.315474Z",
          "iopub.status.idle": "2022-11-14T10:37:09.571770Z",
          "shell.execute_reply": "2022-11-14T10:37:09.570799Z"
        },
        "papermill": {
          "duration": 0.264439,
          "end_time": "2022-11-14T10:37:09.573937",
          "exception": false,
          "start_time": "2022-11-14T10:37:09.309498",
          "status": "completed"
        },
        "tags": [],
        "id": "b92ace0f"
      },
      "outputs": [],
      "source": [
        "x = df.drop('label', axis=1).values\n",
        "y = df['label'].values"
      ]
    },
    {
      "cell_type": "markdown",
      "source": [
        "**Exercise 1: Perform handwritten digit classification using Support Vector Machine (SVM) model. Plot “hyperparameter vs. train-accuracy” and “hyperparameter vs. cv-accuracy” graphs. Measure model performance on test data using following metrics: accuracy, confusion matrix, precision, recall and F1 Score.**\n"
      ],
      "metadata": {
        "id": "5-IKXwAZFj6g"
      },
      "id": "5-IKXwAZFj6g"
    },
    {
      "cell_type": "markdown",
      "source": [
        "**Splitting data into Train and test sets with Stratified Sampling using train_test_split()**"
      ],
      "metadata": {
        "id": "7JMo1qPKFDcm"
      },
      "id": "7JMo1qPKFDcm"
    },
    {
      "cell_type": "code",
      "source": [
        "X_train, X_test, y_train, y_test = train_test_split(x, y, test_size=0.8, random_state = 42)"
      ],
      "metadata": {
        "id": "zbwYq4DbkZjL"
      },
      "id": "zbwYq4DbkZjL",
      "execution_count": null,
      "outputs": []
    },
    {
      "cell_type": "code",
      "execution_count": null,
      "id": "a45ec8f1",
      "metadata": {
        "execution": {
          "iopub.execute_input": "2022-11-14T10:37:09.617570Z",
          "iopub.status.busy": "2022-11-14T10:37:09.617255Z",
          "iopub.status.idle": "2022-11-14T10:39:23.252878Z",
          "shell.execute_reply": "2022-11-14T10:39:23.251807Z"
        },
        "papermill": {
          "duration": 133.648422,
          "end_time": "2022-11-14T10:39:23.258495",
          "exception": false,
          "start_time": "2022-11-14T10:37:09.610073",
          "status": "completed"
        },
        "tags": [],
        "colab": {
          "base_uri": "https://localhost:8080/"
        },
        "id": "a45ec8f1",
        "outputId": "2042f3d8-4622-4962-f7f9-69329799e143"
      },
      "outputs": [
        {
          "output_type": "stream",
          "name": "stdout",
          "text": [
            "Fitting 4 folds for each of 4 candidates, totalling 16 fits\n"
          ]
        },
        {
          "output_type": "execute_result",
          "data": {
            "text/plain": [
              "GridSearchCV(cv=4, estimator=SVC(), n_jobs=-1,\n",
              "             param_grid={'gamma': ['scale', 'auto'],\n",
              "                         'kernel': ['linear', 'rbf']},\n",
              "             return_train_score=True, verbose=2)"
            ]
          },
          "metadata": {},
          "execution_count": 10
        }
      ],
      "source": [
        "parameters = {'kernel':['linear', 'rbf'], 'gamma':['scale', 'auto']}\n",
        "\n",
        "grid = GridSearchCV(estimator=SVC(), param_grid=parameters, cv=4, verbose=2, n_jobs=-1, return_train_score=True)\n",
        "grid.fit(X_train, y_train)"
      ]
    },
    {
      "cell_type": "code",
      "execution_count": null,
      "id": "b5798cdb",
      "metadata": {
        "execution": {
          "iopub.execute_input": "2022-11-14T10:39:23.271670Z",
          "iopub.status.busy": "2022-11-14T10:39:23.271308Z",
          "iopub.status.idle": "2022-11-14T10:39:23.281934Z",
          "shell.execute_reply": "2022-11-14T10:39:23.280811Z"
        },
        "papermill": {
          "duration": 0.019831,
          "end_time": "2022-11-14T10:39:23.283821",
          "exception": false,
          "start_time": "2022-11-14T10:39:23.263990",
          "status": "completed"
        },
        "tags": [],
        "colab": {
          "base_uri": "https://localhost:8080/"
        },
        "id": "b5798cdb",
        "outputId": "0f7d7ee3-ca6f-4dcb-c038-c90c89bc76eb"
      },
      "outputs": [
        {
          "output_type": "execute_result",
          "data": {
            "text/plain": [
              "{'mean_fit_time': array([ 3.87034833,  7.82818246,  3.8166765 , 38.06630796]),\n",
              " 'std_fit_time': array([0.05244008, 0.92801575, 0.0399876 , 0.3319755 ]),\n",
              " 'mean_score_time': array([ 1.92691559,  7.77914685,  1.89461887, 20.80774134]),\n",
              " 'std_score_time': array([0.05722675, 0.20659628, 0.03247399, 0.46351193]),\n",
              " 'param_gamma': masked_array(data=['scale', 'scale', 'auto', 'auto'],\n",
              "              mask=[False, False, False, False],\n",
              "        fill_value='?',\n",
              "             dtype=object),\n",
              " 'param_kernel': masked_array(data=['linear', 'rbf', 'linear', 'rbf'],\n",
              "              mask=[False, False, False, False],\n",
              "        fill_value='?',\n",
              "             dtype=object),\n",
              " 'params': [{'gamma': 'scale', 'kernel': 'linear'},\n",
              "  {'gamma': 'scale', 'kernel': 'rbf'},\n",
              "  {'gamma': 'auto', 'kernel': 'linear'},\n",
              "  {'gamma': 'auto', 'kernel': 'rbf'}],\n",
              " 'split0_test_score': array([0.90666667, 0.94952381, 0.90666667, 0.11047619]),\n",
              " 'split1_test_score': array([0.90142857, 0.9547619 , 0.90142857, 0.11047619]),\n",
              " 'split2_test_score': array([0.91761905, 0.95142857, 0.91761905, 0.11095238]),\n",
              " 'split3_test_score': array([0.91190476, 0.96428571, 0.91190476, 0.11047619]),\n",
              " 'mean_test_score': array([0.90940476, 0.955     , 0.90940476, 0.11059524]),\n",
              " 'std_test_score': array([0.0060175 , 0.00567946, 0.0060175 , 0.0002062 ]),\n",
              " 'rank_test_score': array([2, 1, 2, 4], dtype=int32),\n",
              " 'split0_train_score': array([1.        , 0.98571429, 1.        , 1.        ]),\n",
              " 'split1_train_score': array([1.        , 0.98460317, 1.        , 1.        ]),\n",
              " 'split2_train_score': array([1.        , 0.98761905, 1.        , 1.        ]),\n",
              " 'split3_train_score': array([1.        , 0.98460317, 1.        , 1.        ]),\n",
              " 'mean_train_score': array([1.        , 0.98563492, 1.        , 1.        ]),\n",
              " 'std_train_score': array([0.        , 0.00123208, 0.        , 0.        ])}"
            ]
          },
          "metadata": {},
          "execution_count": 11
        }
      ],
      "source": [
        "grid.cv_results_"
      ]
    },
    {
      "cell_type": "markdown",
      "source": [
        "**Plotting Graphs CV-accuracy vs Hyperparameters**"
      ],
      "metadata": {
        "id": "thSqflghFODK"
      },
      "id": "thSqflghFODK"
    },
    {
      "cell_type": "code",
      "execution_count": null,
      "id": "69bd3472",
      "metadata": {
        "execution": {
          "iopub.execute_input": "2022-11-14T10:39:23.296524Z",
          "iopub.status.busy": "2022-11-14T10:39:23.296199Z",
          "iopub.status.idle": "2022-11-14T10:39:23.479250Z",
          "shell.execute_reply": "2022-11-14T10:39:23.477939Z"
        },
        "papermill": {
          "duration": 0.192208,
          "end_time": "2022-11-14T10:39:23.481880",
          "exception": false,
          "start_time": "2022-11-14T10:39:23.289672",
          "status": "completed"
        },
        "tags": [],
        "colab": {
          "base_uri": "https://localhost:8080/",
          "height": 283
        },
        "id": "69bd3472",
        "outputId": "1e0aff98-ad24-418d-c106-5b10765262b8"
      },
      "outputs": [
        {
          "output_type": "display_data",
          "data": {
            "text/plain": [
              "<Figure size 432x288 with 1 Axes>"
            ],
            "image/png": "[encoded data removed]"
          },
          "metadata": {
            "needs_background": "light"
          }
        }
      ],
      "source": [
        "C_vals = ['gamma:scale; kernel:linear', 'gamma:scale; kernel:rbf', 'gamma:auto; kernel:rbf', 'gamma:auto; kernel:linear']\n",
        "\n",
        "plt.xlabel(\"C\")\n",
        "plt.ylabel(\"cv-accuracy\")\n",
        "plt.scatter(C_vals, grid.cv_results_['mean_test_score'], color='black')\n",
        "plt.vlines(C_vals, 0, grid.cv_results_['mean_test_score'], linestyle=\"dashed\")\n",
        "# plt.ylim(0.85,.95)\n",
        "plt.xticks(C_vals)\n",
        "plt.show()\n",
        "\n",
        "\n",
        "\n",
        "\n",
        "\n",
        "\n",
        "\n",
        "\n",
        "\n",
        "\n",
        "\n",
        "\n",
        "\n"
      ]
    },
    {
      "cell_type": "markdown",
      "source": [
        "**Plotting Graphs train-accuracy vs Hyperparameters**"
      ],
      "metadata": {
        "id": "TloVJ4ugFWTl"
      },
      "id": "TloVJ4ugFWTl"
    },
    {
      "cell_type": "code",
      "execution_count": null,
      "id": "674812c6",
      "metadata": {
        "execution": {
          "iopub.execute_input": "2022-11-14T10:39:23.495668Z",
          "iopub.status.busy": "2022-11-14T10:39:23.495318Z",
          "iopub.status.idle": "2022-11-14T10:39:23.624204Z",
          "shell.execute_reply": "2022-11-14T10:39:23.622719Z"
        },
        "papermill": {
          "duration": 0.138214,
          "end_time": "2022-11-14T10:39:23.626377",
          "exception": false,
          "start_time": "2022-11-14T10:39:23.488163",
          "status": "completed"
        },
        "tags": [],
        "colab": {
          "base_uri": "https://localhost:8080/",
          "height": 279
        },
        "id": "674812c6",
        "outputId": "6bbf72b8-e92a-4a88-f9f5-1cf3b159c56f"
      },
      "outputs": [
        {
          "output_type": "display_data",
          "data": {
            "text/plain": [
              "<Figure size 432x288 with 1 Axes>"
            ],
            "image/png": "[encoded data removed]"
          },
          "metadata": {
            "needs_background": "light"
          }
        }
      ],
      "source": [
        "plt.xlabel(\"C\")\n",
        "plt.ylabel(\"train-accuracy\")\n",
        "plt.scatter(C_vals, grid.cv_results_['mean_train_score'], color='black')\n",
        "plt.vlines(C_vals, 0, grid.cv_results_['mean_train_score'], linestyle=\"dashed\")\n",
        "# plt.ylim(0.9,1.00)\n",
        "plt.xticks(C_vals)\n",
        "plt.show()"
      ]
    },
    {
      "cell_type": "code",
      "execution_count": null,
      "id": "6fdbcad1",
      "metadata": {
        "execution": {
          "iopub.execute_input": "2022-11-14T10:39:23.644786Z",
          "iopub.status.busy": "2022-11-14T10:39:23.643807Z",
          "iopub.status.idle": "2022-11-14T10:40:33.376989Z",
          "shell.execute_reply": "2022-11-14T10:40:33.375889Z"
        },
        "papermill": {
          "duration": 69.745039,
          "end_time": "2022-11-14T10:40:33.379563",
          "exception": false,
          "start_time": "2022-11-14T10:39:23.634524",
          "status": "completed"
        },
        "tags": [],
        "id": "6fdbcad1"
      },
      "outputs": [],
      "source": [
        "model = SVC(gamma='scale', kernel='rbf')\n",
        "model.fit(X_train, y_train)\n",
        "y_pred = model.predict(X_test)"
      ]
    },
    {
      "cell_type": "code",
      "execution_count": null,
      "id": "6269e06e",
      "metadata": {
        "execution": {
          "iopub.execute_input": "2022-11-14T10:40:33.394261Z",
          "iopub.status.busy": "2022-11-14T10:40:33.393285Z",
          "iopub.status.idle": "2022-11-14T10:40:33.406304Z",
          "shell.execute_reply": "2022-11-14T10:40:33.405154Z"
        },
        "papermill": {
          "duration": 0.023298,
          "end_time": "2022-11-14T10:40:33.409225",
          "exception": false,
          "start_time": "2022-11-14T10:40:33.385927",
          "status": "completed"
        },
        "tags": [],
        "colab": {
          "base_uri": "https://localhost:8080/"
        },
        "id": "6269e06e",
        "outputId": "3f091308-2e6e-4b9b-c42a-2cf0efb1e529"
      },
      "outputs": [
        {
          "output_type": "stream",
          "name": "stdout",
          "text": [
            "[[3296    0    3    1    9    6   10    2    5    2]\n",
            " [   0 3711   17    6    4    3    5    7    8    3]\n",
            " [  16   11 3228   17   24    6   21   30   23    4]\n",
            " [   4   12   45 3267    0   59    9   21   57   19]\n",
            " [   5   11   12    0 3106    1   14    5    6   99]\n",
            " [  11    4    6   44    8 2872   51    3   16    8]\n",
            " [  27    8    9    0   16   16 3207    0    5    0]\n",
            " [   4   17   28    7   24    2    0 3337    7   46]\n",
            " [   8   17   12   32   16   34   17    6 3091   20]\n",
            " [  10   12    4   50   52   10    1   60   23 3112]]\n"
          ]
        }
      ],
      "source": [
        "print(confusion_matrix(y_test, y_pred))"
      ]
    },
    {
      "cell_type": "code",
      "execution_count": null,
      "id": "94f20bd1",
      "metadata": {
        "execution": {
          "iopub.execute_input": "2022-11-14T10:40:33.423442Z",
          "iopub.status.busy": "2022-11-14T10:40:33.423072Z",
          "iopub.status.idle": "2022-11-14T10:40:33.481733Z",
          "shell.execute_reply": "2022-11-14T10:40:33.480541Z"
        },
        "papermill": {
          "duration": 0.067944,
          "end_time": "2022-11-14T10:40:33.483572",
          "exception": false,
          "start_time": "2022-11-14T10:40:33.415628",
          "status": "completed"
        },
        "tags": [],
        "colab": {
          "base_uri": "https://localhost:8080/"
        },
        "id": "94f20bd1",
        "outputId": "5408f22e-3491-4aa1-a773-a65a1de114be"
      },
      "outputs": [
        {
          "output_type": "stream",
          "name": "stdout",
          "text": [
            "              precision    recall  f1-score   support\n",
            "\n",
            "           0       0.97      0.99      0.98      3334\n",
            "           1       0.98      0.99      0.98      3764\n",
            "           2       0.96      0.96      0.96      3380\n",
            "           3       0.95      0.94      0.94      3493\n",
            "           4       0.95      0.95      0.95      3259\n",
            "           5       0.95      0.95      0.95      3023\n",
            "           6       0.96      0.98      0.97      3288\n",
            "           7       0.96      0.96      0.96      3472\n",
            "           8       0.95      0.95      0.95      3253\n",
            "           9       0.94      0.93      0.94      3334\n",
            "\n",
            "    accuracy                           0.96     33600\n",
            "   macro avg       0.96      0.96      0.96     33600\n",
            "weighted avg       0.96      0.96      0.96     33600\n",
            "\n"
          ]
        }
      ],
      "source": [
        "print(classification_report(y_test, y_pred))"
      ]
    },
    {
      "cell_type": "markdown",
      "source": [
        "**Exercise 2: Perform handwritten digit classification using neural network model with single hidden layer. Plot “hyperparameter vs. train-accuracy” and “hyperparameter vs. cv-accuracy” graphs. Measure model performance on test data using following metrics: accuracy, confusion matrix, precision, recall and F1 Score.** "
      ],
      "metadata": {
        "id": "dL4JOzX3ZVns"
      },
      "id": "dL4JOzX3ZVns"
    },
    {
      "cell_type": "code",
      "execution_count": null,
      "id": "4b3effa7",
      "metadata": {
        "execution": {
          "iopub.execute_input": "2022-11-14T10:40:33.536170Z",
          "iopub.status.busy": "2022-11-14T10:40:33.535803Z",
          "iopub.status.idle": "2022-11-14T10:41:08.896013Z",
          "shell.execute_reply": "2022-11-14T10:41:08.895318Z"
        },
        "papermill": {
          "duration": 35.37772,
          "end_time": "2022-11-14T10:41:08.906099",
          "exception": false,
          "start_time": "2022-11-14T10:40:33.528379",
          "status": "completed"
        },
        "tags": [],
        "colab": {
          "base_uri": "https://localhost:8080/"
        },
        "id": "4b3effa7",
        "outputId": "9126a315-2d94-44a4-c7eb-645e007ff1d0"
      },
      "outputs": [
        {
          "output_type": "stream",
          "name": "stdout",
          "text": [
            "Fitting 4 folds for each of 4 candidates, totalling 16 fits\n"
          ]
        },
        {
          "output_type": "execute_result",
          "data": {
            "text/plain": [
              "GridSearchCV(cv=4, estimator=MLPClassifier(), n_jobs=-1,\n",
              "             param_grid={'hidden_layer_sizes': [(50,), (100,)],\n",
              "                         'learning_rate_init': [0.001, 0.0005]},\n",
              "             return_train_score=True, verbose=2)"
            ]
          },
          "metadata": {},
          "execution_count": 17
        }
      ],
      "source": [
        "parameters = {'hidden_layer_sizes':[(50,), (100,)], 'learning_rate_init':[0.001, 0.0005]}\n",
        "\n",
        "grid = GridSearchCV(MLPClassifier(), param_grid=parameters, cv=4, verbose=2, n_jobs=-1, return_train_score=True)\n",
        "grid.fit(X_train, y_train)"
      ]
    },
    {
      "cell_type": "code",
      "execution_count": null,
      "id": "9d037320",
      "metadata": {
        "execution": {
          "iopub.execute_input": "2022-11-14T10:41:08.924823Z",
          "iopub.status.busy": "2022-11-14T10:41:08.923883Z",
          "iopub.status.idle": "2022-11-14T10:41:08.934194Z",
          "shell.execute_reply": "2022-11-14T10:41:08.933508Z"
        },
        "papermill": {
          "duration": 0.021696,
          "end_time": "2022-11-14T10:41:08.936059",
          "exception": false,
          "start_time": "2022-11-14T10:41:08.914363",
          "status": "completed"
        },
        "tags": [],
        "colab": {
          "base_uri": "https://localhost:8080/"
        },
        "id": "9d037320",
        "outputId": "336e560e-0cf2-4753-e082-28cad09f40fd"
      },
      "outputs": [
        {
          "output_type": "execute_result",
          "data": {
            "text/plain": [
              "{'mean_fit_time': array([13.08419287, 17.21354485, 11.10038102, 13.7519868 ]),\n",
              " 'std_fit_time': array([2.67563848, 4.88840162, 0.99919951, 1.07321648]),\n",
              " 'mean_score_time': array([0.0217061 , 0.0208745 , 0.0315581 , 0.02827233]),\n",
              " 'std_score_time': array([0.00044068, 0.00028497, 0.00035018, 0.00577843]),\n",
              " 'param_hidden_layer_sizes': masked_array(data=[(50,), (50,), (100,), (100,)],\n",
              "              mask=[False, False, False, False],\n",
              "        fill_value='?',\n",
              "             dtype=object),\n",
              " 'param_learning_rate_init': masked_array(data=[0.001, 0.0005, 0.001, 0.0005],\n",
              "              mask=[False, False, False, False],\n",
              "        fill_value='?',\n",
              "             dtype=object),\n",
              " 'params': [{'hidden_layer_sizes': (50,), 'learning_rate_init': 0.001},\n",
              "  {'hidden_layer_sizes': (50,), 'learning_rate_init': 0.0005},\n",
              "  {'hidden_layer_sizes': (100,), 'learning_rate_init': 0.001},\n",
              "  {'hidden_layer_sizes': (100,), 'learning_rate_init': 0.0005}],\n",
              " 'split0_test_score': array([0.87      , 0.85428571, 0.89428571, 0.8752381 ]),\n",
              " 'split1_test_score': array([0.8852381 , 0.86380952, 0.88904762, 0.86142857]),\n",
              " 'split2_test_score': array([0.89238095, 0.88285714, 0.90428571, 0.86714286]),\n",
              " 'split3_test_score': array([0.88238095, 0.85952381, 0.90857143, 0.87142857]),\n",
              " 'mean_test_score': array([0.8825    , 0.86511905, 0.89904762, 0.86880952]),\n",
              " 'std_test_score': array([0.00808385, 0.01078219, 0.00775913, 0.00513425]),\n",
              " 'rank_test_score': array([2, 4, 1, 3], dtype=int32),\n",
              " 'split0_train_score': array([0.98015873, 1.        , 1.        , 1.        ]),\n",
              " 'split1_train_score': array([0.98047619, 1.        , 1.        , 1.        ]),\n",
              " 'split2_train_score': array([1.        , 0.97888889, 0.9947619 , 1.        ]),\n",
              " 'split3_train_score': array([0.97825397, 0.99984127, 0.9784127 , 1.        ]),\n",
              " 'mean_train_score': array([0.98472222, 0.99468254, 0.99329365, 1.        ]),\n",
              " 'std_train_score': array([0.00886148, 0.0091187 , 0.00885365, 0.        ])}"
            ]
          },
          "metadata": {},
          "execution_count": 18
        }
      ],
      "source": [
        "grid.cv_results_"
      ]
    },
    {
      "cell_type": "markdown",
      "source": [
        "**Plotting Graphs CV-accuracy vs Hyperparameters**"
      ],
      "metadata": {
        "id": "muhgPBmhFRUH"
      },
      "id": "muhgPBmhFRUH"
    },
    {
      "cell_type": "code",
      "execution_count": null,
      "id": "16c7c24a",
      "metadata": {
        "execution": {
          "iopub.execute_input": "2022-11-14T10:41:08.954541Z",
          "iopub.status.busy": "2022-11-14T10:41:08.954197Z",
          "iopub.status.idle": "2022-11-14T10:41:09.074137Z",
          "shell.execute_reply": "2022-11-14T10:41:09.073450Z"
        },
        "papermill": {
          "duration": 0.131382,
          "end_time": "2022-11-14T10:41:09.075898",
          "exception": false,
          "start_time": "2022-11-14T10:41:08.944516",
          "status": "completed"
        },
        "tags": [],
        "colab": {
          "base_uri": "https://localhost:8080/",
          "height": 279
        },
        "id": "16c7c24a",
        "outputId": "b1cc1e10-c5d0-4b87-b42c-393db3a12330"
      },
      "outputs": [
        {
          "output_type": "display_data",
          "data": {
            "text/plain": [
              "<Figure size 432x288 with 1 Axes>"
            ],
            "image/png": "[encoded data removed]"
          },
          "metadata": {
            "needs_background": "light"
          }
        }
      ],
      "source": [
        "C_vals = [\"hidden layer': 50, 'learning rate': 0.001\", \n",
        "         \"hidden layer': 50, 'learning rate': 0.0002\",\n",
        "         \"hidden layer': 20, 'learning rate': 0.001\",\n",
        "         \"hidden layer': 20, 'learning rate': 0.0002\"]\n",
        "\n",
        "plt.xlabel(\"C\")\n",
        "plt.ylabel(\"cv-accuracy\")\n",
        "plt.scatter(C_vals, grid.cv_results_['mean_test_score'], color='black')\n",
        "plt.vlines(C_vals, 0, grid.cv_results_['mean_test_score'], linestyle=\"dashed\")\n",
        "# plt.ylim(0.85,.95)\n",
        "plt.xticks(C_vals)\n",
        "plt.show()"
      ]
    },
    {
      "cell_type": "markdown",
      "source": [
        "**Plotting Graphs train-accuracy vs Hyperparameters**"
      ],
      "metadata": {
        "id": "xC3QILulFUjl"
      },
      "id": "xC3QILulFUjl"
    },
    {
      "cell_type": "code",
      "execution_count": null,
      "id": "ba40214b",
      "metadata": {
        "execution": {
          "iopub.execute_input": "2022-11-14T10:41:09.091481Z",
          "iopub.status.busy": "2022-11-14T10:41:09.090660Z",
          "iopub.status.idle": "2022-11-14T10:41:09.196994Z",
          "shell.execute_reply": "2022-11-14T10:41:09.196113Z"
        },
        "papermill": {
          "duration": 0.116043,
          "end_time": "2022-11-14T10:41:09.198724",
          "exception": false,
          "start_time": "2022-11-14T10:41:09.082681",
          "status": "completed"
        },
        "tags": [],
        "colab": {
          "base_uri": "https://localhost:8080/",
          "height": 279
        },
        "id": "ba40214b",
        "outputId": "7b110323-eff4-42ad-f8ce-38658ea71d40"
      },
      "outputs": [
        {
          "output_type": "display_data",
          "data": {
            "text/plain": [
              "<Figure size 432x288 with 1 Axes>"
            ],
            "image/png": "[encoded data removed]"
          },
          "metadata": {
            "needs_background": "light"
          }
        }
      ],
      "source": [
        "plt.xlabel(\"C\")\n",
        "plt.ylabel(\"train-accuracy\")\n",
        "plt.scatter(C_vals, grid.cv_results_['mean_train_score'], color='black')\n",
        "plt.vlines(C_vals, 0, grid.cv_results_['mean_train_score'], linestyle=\"dashed\")\n",
        "plt.xticks(C_vals)\n",
        "plt.show()"
      ]
    },
    {
      "cell_type": "code",
      "execution_count": null,
      "id": "c71622b3",
      "metadata": {
        "execution": {
          "iopub.execute_input": "2022-11-14T10:41:09.214369Z",
          "iopub.status.busy": "2022-11-14T10:41:09.213768Z",
          "iopub.status.idle": "2022-11-14T10:41:14.027580Z",
          "shell.execute_reply": "2022-11-14T10:41:14.026832Z"
        },
        "papermill": {
          "duration": 4.82428,
          "end_time": "2022-11-14T10:41:14.029965",
          "exception": false,
          "start_time": "2022-11-14T10:41:09.205685",
          "status": "completed"
        },
        "tags": [],
        "id": "c71622b3"
      },
      "outputs": [],
      "source": [
        "model = MLPClassifier(hidden_layer_sizes=100, learning_rate_init=0.0005)\n",
        "model.fit(X_train, y_train)\n",
        "y_pred = model.predict(X_test)"
      ]
    },
    {
      "cell_type": "code",
      "execution_count": null,
      "id": "32c66318",
      "metadata": {
        "execution": {
          "iopub.execute_input": "2022-11-14T10:41:14.051537Z",
          "iopub.status.busy": "2022-11-14T10:41:14.050656Z",
          "iopub.status.idle": "2022-11-14T10:41:14.064508Z",
          "shell.execute_reply": "2022-11-14T10:41:14.063788Z"
        },
        "papermill": {
          "duration": 0.026536,
          "end_time": "2022-11-14T10:41:14.066507",
          "exception": false,
          "start_time": "2022-11-14T10:41:14.039971",
          "status": "completed"
        },
        "tags": [],
        "colab": {
          "base_uri": "https://localhost:8080/"
        },
        "id": "32c66318",
        "outputId": "6c1b533f-305e-4fdd-f678-9dce75f0b204"
      },
      "outputs": [
        {
          "output_type": "stream",
          "name": "stdout",
          "text": [
            "[[3149    0   24    4   16   47   38   21   30    5]\n",
            " [   1 3621   20   24   15    4    6   34   32    7]\n",
            " [  33   22 2889  113   58   12   57   81   90   25]\n",
            " [  30   24   73 2931    2  206   17   37  113   60]\n",
            " [  16   17   32   14 2872    9   41   37   42  179]\n",
            " [  44   14   13  118   31 2604   57   11   89   42]\n",
            " [  54   16   31   10   50   46 3033   12   33    3]\n",
            " [   7   21   49   35   39   10    4 3158   26  123]\n",
            " [  30   41   77  160   38   93   24   19 2707   64]\n",
            " [  28   11   19   45  135   35    3  135   38 2885]]\n"
          ]
        }
      ],
      "source": [
        "print(confusion_matrix(y_test, y_pred))"
      ]
    },
    {
      "cell_type": "code",
      "execution_count": null,
      "id": "f0de65f3",
      "metadata": {
        "execution": {
          "iopub.execute_input": "2022-11-14T10:41:14.086162Z",
          "iopub.status.busy": "2022-11-14T10:41:14.085789Z",
          "iopub.status.idle": "2022-11-14T10:41:14.153053Z",
          "shell.execute_reply": "2022-11-14T10:41:14.152127Z"
        },
        "papermill": {
          "duration": 0.07922,
          "end_time": "2022-11-14T10:41:14.154791",
          "exception": false,
          "start_time": "2022-11-14T10:41:14.075571",
          "status": "completed"
        },
        "tags": [],
        "colab": {
          "base_uri": "https://localhost:8080/"
        },
        "id": "f0de65f3",
        "outputId": "eded77d5-f203-47e5-9f27-1e48237eb754"
      },
      "outputs": [
        {
          "output_type": "stream",
          "name": "stdout",
          "text": [
            "              precision    recall  f1-score   support\n",
            "\n",
            "           0       0.93      0.94      0.94      3334\n",
            "           1       0.96      0.96      0.96      3764\n",
            "           2       0.90      0.85      0.87      3380\n",
            "           3       0.85      0.84      0.84      3493\n",
            "           4       0.88      0.88      0.88      3259\n",
            "           5       0.85      0.86      0.86      3023\n",
            "           6       0.92      0.92      0.92      3288\n",
            "           7       0.89      0.91      0.90      3472\n",
            "           8       0.85      0.83      0.84      3253\n",
            "           9       0.85      0.87      0.86      3334\n",
            "\n",
            "    accuracy                           0.89     33600\n",
            "   macro avg       0.89      0.89      0.89     33600\n",
            "weighted avg       0.89      0.89      0.89     33600\n",
            "\n"
          ]
        }
      ],
      "source": [
        "print(classification_report(y_test, y_pred))"
      ]
    },
    {
      "cell_type": "markdown",
      "source": [
        "**Observation of the model**"
      ],
      "metadata": {
        "id": "s1GsOJJDI5OU"
      },
      "id": "s1GsOJJDI5OU"
    },
    {
      "cell_type": "markdown",
      "source": [
        "We are using SVM, Neural Network and Logistic regression and the accuracy we get are as blow\n",
        "\n",
        "\n",
        "*   SVM :- 96%\n",
        "*   Neural Network :- 89%\n",
        "* Logistic regression :- 91%\n",
        "\n"
      ],
      "metadata": {
        "id": "91Pi_Yr5JB4p"
      },
      "id": "91Pi_Yr5JB4p"
    }
  ],
  "metadata": {
    "kernelspec": {
      "display_name": "Python 3",
      "language": "python",
      "name": "python3"
    },
    "language_info": {
      "codemirror_mode": {
        "name": "ipython",
        "version": 3
      },
      "file_extension": ".py",
      "mimetype": "text/x-python",
      "name": "python",
      "nbconvert_exporter": "python",
      "pygments_lexer": "ipython3",
      "version": "3.7.12"
    },
    "papermill": {
      "default_parameters": {},
      "duration": 258.247939,
      "end_time": "2022-11-14T10:41:16.794520",
      "environment_variables": {},
      "exception": null,
      "input_path": "__notebook__.ipynb",
      "output_path": "__notebook__.ipynb",
      "parameters": {},
      "start_time": "2022-11-14T10:36:58.546581",
      "version": "2.3.4"
    },
    "colab": {
      "provenance": []
    }
  },
  "nbformat": 4,
  "nbformat_minor": 5
}