{
  "nbformat": 4,
  "nbformat_minor": 0,
  "metadata": {
    "colab": {
      "provenance": []
    },
    "kernelspec": {
      "name": "python3",
      "display_name": "Python 3"
    },
    "language_info": {
      "name": "python"
    }
  },
  "cells": [
    {
      "cell_type": "markdown",
      "source": [
        "\n",
        "\n",
        "---\n",
        "\n",
        "\n",
        "**<center>Pandit Deendayal Energy University**<br>\n",
        "**School of Technology**<br>\n",
        "**Machine Learning Lab (20CP401P)**<br>\n",
        "**B.Tech-Computer Science & Engineering (Sem-VII)**<br>\n",
        "\n",
        "\n",
        "Name: Mire Kishorkumar Patel<br>\n",
        "Roll No.: 19BCP080<br>\n",
        "Branch: Computer Science & Engineering<br>\n",
        "\n",
        "Lab 4 Assignment<br>\n",
        "Implement of K-Nearest Neighbor Algorithm\n",
        "\n",
        "\n",
        "---\n"
      ],
      "metadata": {
        "id": "VjcS2eOLBnwp"
      }
    },
    {
      "cell_type": "markdown",
      "source": [
        "# **MACHINE LEARNING LAB - 4: Implement of K-Nearest Neighbor Algorithm**"
      ],
      "metadata": {
        "id": "fA9HyHDFf-1D"
      }
    },
    {
      "cell_type": "markdown",
      "source": [
        "**• PROBLEM STATEMENT : Implement of K-Nearest Neighbor Algorithm**"
      ],
      "metadata": {
        "id": "zCGKDqMWt6gR"
      }
    },
    {
      "cell_type": "markdown",
      "source": [
        "**Import Libraries**"
      ],
      "metadata": {
        "id": "MCPVvjqbnj9H"
      }
    },
    {
      "cell_type": "code",
      "execution_count": null,
      "metadata": {
        "id": "4gjDBklCnJB2"
      },
      "outputs": [],
      "source": [
        "from sklearn.model_selection import train_test_split\n",
        "from sklearn.datasets import *\n",
        "from sklearn.linear_model import LogisticRegression"
      ]
    },
    {
      "cell_type": "code",
      "source": [
        "import pandas as pd\n",
        "import numpy as np\n",
        "from sklearn.preprocessing import StandardScaler\n",
        "\n",
        "import matplotlib.pyplot as plt\n",
        "from sklearn.metrics import accuracy_score"
      ],
      "metadata": {
        "id": "nXWM9bHAjQvn"
      },
      "execution_count": null,
      "outputs": []
    },
    {
      "cell_type": "markdown",
      "source": [
        "**Load the data**"
      ],
      "metadata": {
        "id": "xV_D3GvSnqE2"
      }
    },
    {
      "cell_type": "code",
      "source": [
        "data = load_breast_cancer() #refer: http://scikit-learn.org/stable/modules/generated/sklearn.datasets.load_breast_cancer.html#sklearn.datasets.load_breast_cancer\n",
        "\n",
        "# data with features\n",
        "X = data.data\n",
        "\n",
        "# data class labels\n",
        "y = data.target"
      ],
      "metadata": {
        "id": "RIBmJYuXnsa2"
      },
      "execution_count": null,
      "outputs": []
    },
    {
      "cell_type": "markdown",
      "source": [
        "**Print the number of data points, number of features and number of classes in the given data set.**"
      ],
      "metadata": {
        "id": "ZmIAUYfusNJK"
      }
    },
    {
      "cell_type": "code",
      "source": [
        "n_data_points = len(X)\n",
        "print(n_data_points, \"data points\")\n",
        "\n",
        "n_features = len(X[0])\n",
        "print(n_features, \"features\")\n",
        "\n",
        "n_classes = len(set(y))\n",
        "print(n_classes, \"classes\")"
      ],
      "metadata": {
        "id": "Ib_fr2lDsaQa",
        "colab": {
          "base_uri": "https://localhost:8080/"
        },
        "outputId": "f4406c3e-a282-499e-a051-720d4f608558"
      },
      "execution_count": null,
      "outputs": [
        {
          "output_type": "stream",
          "name": "stdout",
          "text": [
            "569 data points\n",
            "30 features\n",
            "2 classes\n"
          ]
        }
      ]
    },
    {
      "cell_type": "markdown",
      "source": [
        "**Splitting data into Train and test sets with Stratified Sampling using train_test_split()**"
      ],
      "metadata": {
        "id": "0FSg49Uxsnw6"
      }
    },
    {
      "cell_type": "code",
      "source": [
        "X_train, X_test, y_train, y_test = train_test_split(X, y, test_size=0.2, stratify=y)"
      ],
      "metadata": {
        "id": "XyGtQkgGsqQa"
      },
      "execution_count": null,
      "outputs": []
    },
    {
      "cell_type": "markdown",
      "source": [
        "**Data Preprocessing using column standardisation. Use sklearn.preprocessing.StandardScaler().**"
      ],
      "metadata": {
        "id": "qZEUDkrmsr1S"
      }
    },
    {
      "cell_type": "code",
      "source": [
        "scaler = StandardScaler()\n",
        "\n",
        "X_train_scaled = scaler.fit_transform(X_train)\n",
        "X_test_scaled =scaler.transform(X_test)"
      ],
      "metadata": {
        "id": "W3IqnsLtsxdJ"
      },
      "execution_count": null,
      "outputs": []
    },
    {
      "cell_type": "markdown",
      "source": [
        "## **Implement Logistic Regression Using Gradient Descent: without using sklearn.**"
      ],
      "metadata": {
        "id": "0hI7Xizrsx9y"
      }
    },
    {
      "cell_type": "markdown",
      "source": [
        "\n",
        "In this algorithm, $n$ is the total number of datapoints in dataset. \n",
        "$\\alpha$ is the learning rate to be used in gradient descent. For this work, just fix $\\alpha = 0.001$.\n",
        "\n",
        "The predicted value for data point $x$ is $y_{pred} = σ(w^{T}x + b)$, where $σ$ is a sigmoid function.\n",
        "\n",
        "**ALGORITHM:**\n",
        "\n",
        "<br>\n",
        "\n",
        "* Initialize the weight_vector and intercept term to zeros (Write your code in <font color='blue'>def initialize_weights()</font>)\n",
        "\n",
        "* Create a loss function (Write your code in <font color='blue'>def logloss()</font>) \n",
        "\n",
        " $log loss = -1*\\frac{1}{n}\\Sigma_{for each y_{true},y_{pred}}(y_{true}log(y_{pred})+(1-y_{true})log(1-y_{pred}))$\n",
        "- for each epoch:\n",
        "\n",
        "    - for each data point say $x_{i}$ in train:\n",
        "\n",
        "        - calculate the gradient of loss function w.r.t each weight in weight vector (write your code in <font color='blue'>def gradient_dw()</font>)\n",
        "\n",
        "        $dw^{(t)} = \\frac{1}{n}(x_i(σ((w^{(t)})^{T} x_i+b^{t}) - y_i))$ <br>\n",
        "\n",
        "        - Calculate the gradient of the intercept (write your code in <font color='blue'> def gradient_db()</font>)\n",
        "\n",
        "           $ db^{(t)} = \\frac{1}{n}(σ((w^{(t)})^{T} x_i+b^{t}) - y_i))$\n",
        "\n",
        "        - Update weights and intercept usign gradient descent  <br>\n",
        "        $w^{(t+1)}← w^{(t)} - α(dw^{(t)}) $<br>\n",
        "\n",
        "        $b^{(t+1)}←b^{(t)} - α(db^{(t)}) $\n",
        "    - predict the output for all test data points with updated weights. (write your function in def prediction())\n",
        "    - calculate the log loss for train and test data points separately with the updated weights. Store these losses in the lists, train_loss and test_loss.\n",
        "    - And if you wish, you can compare the previous train loss and the current train loss, if it is not updating, then\n",
        "        you can stop the training\n",
        "    -return the updated weights, training and test loss lists.\n"
      ],
      "metadata": {
        "id": "ynujCs0lwy4n"
      }
    },
    {
      "cell_type": "code",
      "source": [
        "n_features = len(X[0])"
      ],
      "metadata": {
        "id": "lL0xKyoqjcLS"
      },
      "execution_count": null,
      "outputs": []
    },
    {
      "cell_type": "code",
      "source": [
        "def initialize_weights():\n",
        "    #initialize the weights as 1d array consisting of all zeros similar to the dimensions of input vector.\n",
        "    #initialize bias to zero\n",
        "    weights = np.zeros((n_features, ))\n",
        "    bias = 0\n",
        "    return weights, bias"
      ],
      "metadata": {
        "id": "18XrII86wxbn"
      },
      "execution_count": null,
      "outputs": []
    },
    {
      "cell_type": "code",
      "source": [
        "def sigmoid(z):\n",
        "    ''' In this function, we will return sigmoid of z'''\n",
        "    # compute sigmoid(z) and return\n",
        "    return 1 / (1 + np.exp(-z))"
      ],
      "metadata": {
        "id": "LvxGkvA-0bW6"
      },
      "execution_count": null,
      "outputs": []
    },
    {
      "cell_type": "code",
      "source": [
        "def logloss(y_true, y_pred):\n",
        "    # you have been given two arrays y_true and y_pred and you have to calculate the logloss\n",
        "    n = y_true.shape[0]\n",
        "    log_sum = 0\n",
        "\n",
        "    for i in range(n):\n",
        "        log_sum += (y_true[i] * np.log(y_pred[i])) + ((1 - y_true[i]) * np.log(1 - y_pred[i]))\n",
        "    \n",
        "    return -log_sum / n"
      ],
      "metadata": {
        "id": "85VJ1n5Q0ig6"
      },
      "execution_count": null,
      "outputs": []
    },
    {
      "cell_type": "code",
      "source": [
        "# w should be a vector of size as input data point. Size of w and dw be same.\n",
        "def gradient_dw(x, y, w, b):\n",
        "  # In this function, we will compute the gradient w.r.to w\n",
        "  dw = np.dot(x, sigmoid(np.dot(w.T, x) + b) - y)\n",
        "  return dw  "
      ],
      "metadata": {
        "id": "j1sFxfpm0yhA"
      },
      "execution_count": null,
      "outputs": []
    },
    {
      "cell_type": "code",
      "source": [
        "#b should be a scalar value\n",
        "def gradient_db(x,y,w,b):\n",
        "  # In this function, we will compute gradient w.r.to b \n",
        "  db = sigmoid(np.dot(w.T, x) + b) - y\n",
        "  return db"
      ],
      "metadata": {
        "id": "CWxvXtMI1KMr"
      },
      "execution_count": null,
      "outputs": []
    },
    {
      "cell_type": "markdown",
      "source": [
        "**For the prediction, if activation_value > 0.5 then assign label = 1 else label = 0**"
      ],
      "metadata": {
        "id": "xKttny689cmV"
      }
    },
    {
      "cell_type": "code",
      "source": [
        "def predict(x, w, b):\n",
        "  # predicting the class label for a data point.\n",
        "  predictions = []\n",
        "  for point in x:\n",
        "    predictions.append(0 if sigmoid(np.dot(w.T, point) + b) < 0.5 else 1)\n",
        "  return predictions"
      ],
      "metadata": {
        "id": "aGLAVthp5Ug_"
      },
      "execution_count": null,
      "outputs": []
    },
    {
      "cell_type": "code",
      "source": [
        "def logistic_regression(epochs=1000, alpha=.001):\n",
        "  # implement your algorithm\n",
        "  weights, bias = initialize_weights()\n",
        "  n = len(X_train_scaled[0])\n",
        "  train_loss = []\n",
        "  \n",
        "  for epoch in range(epochs):\n",
        "    for x, y in zip(X_train_scaled, y_train):\n",
        "      weights -= (alpha * gradient_dw(x, y, weights, bias))\n",
        "      bias -= (alpha * gradient_db(x, y, weights, bias))\n",
        "    loss = logloss(y_train, sigmoid(np.dot(X_train_scaled, weights) + bias))\n",
        "    train_loss.append(loss)\n",
        "  return weights, bias, train_loss"
      ],
      "metadata": {
        "id": "yu1wK8Xq1mTI"
      },
      "execution_count": null,
      "outputs": []
    },
    {
      "cell_type": "markdown",
      "source": [
        "**Plot your train and test loss vs epochs. Plot epoch number on X-axis and loss on Y-axis and make sure that the curve is converging**"
      ],
      "metadata": {
        "id": "WYe3WqKO5kW1"
      }
    },
    {
      "cell_type": "code",
      "source": [
        "weights, bias, train_loss = logistic_regression()"
      ],
      "metadata": {
        "id": "fdvYIvpMtRra"
      },
      "execution_count": null,
      "outputs": []
    },
    {
      "cell_type": "code",
      "source": [
        "plt.plot(list(range(1000)), train_loss)\n",
        "\n",
        "\n",
        "\n",
        "\n",
        "\n",
        "\n",
        "\n",
        "\n",
        "\n"
      ],
      "metadata": {
        "id": "D4Wnv-xA7j6c",
        "colab": {
          "base_uri": "https://localhost:8080/",
          "height": 282
        },
        "outputId": "91fbea5c-16f7-4d35-cf8c-08a17f5c2ac2"
      },
      "execution_count": null,
      "outputs": [
        {
          "output_type": "execute_result",
          "data": {
            "text/plain": [
              "[<matplotlib.lines.Line2D at 0x7f361adfb2d0>]"
            ]
          },
          "metadata": {},
          "execution_count": 59
        },
        {
          "output_type": "display_data",
          "data": {
            "text/plain": [
              "<Figure size 432x288 with 1 Axes>"
            ],
            "image/png": "[encoded data removed]"
          },
          "metadata": {
            "needs_background": "light"
          }
        }
      ]
    },
    {
      "cell_type": "markdown",
      "source": [
        "**Compute the final accuracy on test dataset.**"
      ],
      "metadata": {
        "id": "9UEbsJqt7vJs"
      }
    },
    {
      "cell_type": "code",
      "source": [
        "y_pred = predict(X_test_scaled, weights, bias)\n",
        "accuracy = accuracy_score(y_test, y_pred)"
      ],
      "metadata": {
        "id": "RhCDgO508XAZ"
      },
      "execution_count": null,
      "outputs": []
    },
    {
      "cell_type": "code",
      "source": [
        "alpha_list = [0.1, 0.01, 0.001, 0.0001]\n",
        "acc_list = []\n",
        "\n",
        "for alpha in alpha_list:\n",
        "    weights, bias, train_loss = logistic_regression(alpha=alpha)\n",
        "    y_pred = predict(X_test_scaled, weights, bias)\n",
        "    accuracy = accuracy_score(y_test, y_pred)\n",
        "    acc_list.append(accuracy)"
      ],
      "metadata": {
        "colab": {
          "base_uri": "https://localhost:8080/"
        },
        "id": "0HthuJ8qkYRn",
        "outputId": "fdeaddf2-159c-47f3-9920-bf803e393c16"
      },
      "execution_count": null,
      "outputs": [
        {
          "output_type": "stream",
          "name": "stderr",
          "text": [
            "/usr/local/lib/python3.7/dist-packages/ipykernel_launcher.py:7: RuntimeWarning: divide by zero encountered in log\n",
            "  import sys\n",
            "/usr/local/lib/python3.7/dist-packages/ipykernel_launcher.py:7: RuntimeWarning: invalid value encountered in multiply\n",
            "  import sys\n"
          ]
        }
      ]
    },
    {
      "cell_type": "code",
      "source": [
        "print(list(zip(alpha_list, acc_list)))"
      ],
      "metadata": {
        "colab": {
          "base_uri": "https://localhost:8080/"
        },
        "id": "g-h8LHQxkaP9",
        "outputId": "6cb7f01d-1be0-4dfc-82c2-cb9aacd77d7f"
      },
      "execution_count": null,
      "outputs": [
        {
          "output_type": "stream",
          "name": "stdout",
          "text": [
            "[(0.1, 0.9649122807017544), (0.01, 0.9649122807017544), (0.001, 0.9824561403508771), (0.0001, 0.9912280701754386)]\n"
          ]
        }
      ]
    },
    {
      "cell_type": "markdown",
      "source": [
        "**BONUS: Train your model with varying values of learning rates say ranging in $[0.1, 0.01, 0.001, 0.0001]$ and plot the performances.**"
      ],
      "metadata": {
        "id": "qUcuGi8Q-HE7"
      }
    },
    {
      "cell_type": "code",
      "source": [
        "plt.scatter([str(x) for x in alpha_list], acc_list)\n",
        "\n",
        "\n",
        "\n",
        "\n",
        "\n"
      ],
      "metadata": {
        "id": "FCawXEH_8XbZ",
        "colab": {
          "base_uri": "https://localhost:8080/",
          "height": 282
        },
        "outputId": "63693ab3-cdc8-4198-a704-270820311334"
      },
      "execution_count": null,
      "outputs": [
        {
          "output_type": "execute_result",
          "data": {
            "text/plain": [
              "<matplotlib.collections.PathCollection at 0x7f361ad6b110>"
            ]
          },
          "metadata": {},
          "execution_count": 63
        },
        {
          "output_type": "display_data",
          "data": {
            "text/plain": [
              "<Figure size 432x288 with 1 Axes>"
            ],
            "image/png": "[encoded data removed]"
          },
          "metadata": {
            "needs_background": "light"
          }
        }
      ]
    }
  ]
}