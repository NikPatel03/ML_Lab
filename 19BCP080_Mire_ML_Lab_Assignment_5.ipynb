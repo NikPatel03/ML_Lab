{
  "metadata": {
    "kernelspec": {
      "language": "python",
      "display_name": "Python 3",
      "name": "python3"
    },
    "language_info": {
      "name": "python",
      "version": "3.7.12",
      "mimetype": "text/x-python",
      "codemirror_mode": {
        "name": "ipython",
        "version": 3
      },
      "pygments_lexer": "ipython3",
      "nbconvert_exporter": "python",
      "file_extension": ".py"
    },
    "colab": {
      "provenance": []
    }
  },
  "nbformat_minor": 0,
  "nbformat": 4,
  "cells": [
    {
      "cell_type": "markdown",
      "source": [
        "\n",
        "\n",
        "---\n",
        "\n",
        "\n",
        "**<center>Pandit Deendayal Energy University**<br>\n",
        "**School of Technology**<br>\n",
        "**Machine Learning Lab (20CP401P)**<br>\n",
        "**B.Tech-Computer Science & Engineering (Sem-VII)**<br>\n",
        "\n",
        "\n",
        "Name: Mire Kishorkumar Patel<br>\n",
        "Roll No.: 19BCP080<br>\n",
        "Branch: Computer Science & Engineering<br>\n",
        "\n",
        "Lab 5 Assignment<br>\n",
        "Perform handwritten digit classification using logistic regression\n",
        "\n",
        "\n",
        "---\n"
      ],
      "metadata": {
        "id": "VjcS2eOLBnwp"
      }
    },
    {
      "cell_type": "markdown",
      "source": [
        "# **MACHINE LEARNING LAB - 5: Perform handwritten digit classification using logistic regression**"
      ],
      "metadata": {
        "id": "fA9HyHDFf-1D"
      }
    },
    {
      "cell_type": "markdown",
      "source": [
        "**• PROBLEM STATEMENT : Perform handwritten digit classification using logistic regression**"
      ],
      "metadata": {
        "id": "zCGKDqMWt6gR"
      }
    },
    {
      "cell_type": "markdown",
      "source": [
        "**Import Libraries**"
      ],
      "metadata": {
        "id": "MCPVvjqbnj9H"
      }
    },
    {
      "cell_type": "code",
      "source": [
        "import pandas as pd\n",
        "import numpy as np\n",
        "import seaborn as sns\n",
        "import matplotlib.pyplot as plt\n",
        "from sklearn.preprocessing import StandardScaler\n",
        "from sklearn.model_selection import train_test_split\n",
        "from sklearn.linear_model import LogisticRegression\n",
        "from sklearn.model_selection import GridSearchCV\n",
        "from sklearn.metrics import accuracy_score"
      ],
      "metadata": {
        "execution": {
          "iopub.status.busy": "2022-11-08T09:42:49.727124Z",
          "iopub.execute_input": "2022-11-08T09:42:49.727602Z",
          "iopub.status.idle": "2022-11-08T09:42:51.300310Z",
          "shell.execute_reply.started": "2022-11-08T09:42:49.727510Z",
          "shell.execute_reply": "2022-11-08T09:42:51.298121Z"
        },
        "trusted": true,
        "id": "nXsyATnCoAS6"
      },
      "execution_count": null,
      "outputs": []
    },
    {
      "cell_type": "code",
      "source": [
        "import warnings\n",
        "warnings.filterwarnings(\"ignore\")"
      ],
      "metadata": {
        "execution": {
          "iopub.status.busy": "2022-11-08T09:42:52.659056Z",
          "iopub.execute_input": "2022-11-08T09:42:52.659618Z",
          "iopub.status.idle": "2022-11-08T09:42:52.668077Z",
          "shell.execute_reply.started": "2022-11-08T09:42:52.659576Z",
          "shell.execute_reply": "2022-11-08T09:42:52.666601Z"
        },
        "trusted": true,
        "id": "0HFCBun4oAS-"
      },
      "execution_count": null,
      "outputs": []
    },
    {
      "cell_type": "code",
      "source": [
        "df = pd.read_csv(\"./train.csv\")\n",
        "df.head()\n",
        "\n",
        "\n",
        "\n",
        "\n",
        "\n",
        "\n",
        "\n",
        "\n",
        "\n"
      ],
      "metadata": {
        "execution": {
          "iopub.status.busy": "2022-11-08T09:42:53.276727Z",
          "iopub.execute_input": "2022-11-08T09:42:53.277990Z",
          "iopub.status.idle": "2022-11-08T09:42:57.189740Z",
          "shell.execute_reply.started": "2022-11-08T09:42:53.277908Z",
          "shell.execute_reply": "2022-11-08T09:42:57.188169Z"
        },
        "trusted": true,
        "colab": {
          "base_uri": "https://localhost:8080/",
          "height": 299
        },
        "id": "OnJfrbs3oAS-",
        "outputId": "9ce59f6f-c650-403d-bc32-1fe452d3dd8f"
      },
      "execution_count": null,
      "outputs": [
        {
          "output_type": "execute_result",
          "data": {
            "text/plain": [
              "   label  pixel0  pixel1  pixel2  pixel3  pixel4  pixel5  pixel6  pixel7  \\\n",
              "0      1       0       0       0       0       0       0       0       0   \n",
              "1      0       0       0       0       0       0       0       0       0   \n",
              "2      1       0       0       0       0       0       0       0       0   \n",
              "3      4       0       0       0       0       0       0       0       0   \n",
              "4      0       0       0       0       0       0       0       0       0   \n",
              "\n",
              "   pixel8  ...  pixel774  pixel775  pixel776  pixel777  pixel778  pixel779  \\\n",
              "0       0  ...         0         0         0         0         0         0   \n",
              "1       0  ...         0         0         0         0         0         0   \n",
              "2       0  ...         0         0         0         0         0         0   \n",
              "3       0  ...         0         0         0         0         0         0   \n",
              "4       0  ...         0         0         0         0         0         0   \n",
              "\n",
              "   pixel780  pixel781  pixel782  pixel783  \n",
              "0         0         0         0         0  \n",
              "1         0         0         0         0  \n",
              "2         0         0         0         0  \n",
              "3         0         0         0         0  \n",
              "4         0         0         0         0  \n",
              "\n",
              "[5 rows x 785 columns]"
            ],
            "text/html": [
              "\n",
              "  <div id=\"df-ba6e1bd3-91bb-4c7a-954d-c3678b2700c7\">\n",
              "    <div class=\"colab-df-container\">\n",
              "      <div>\n",
              "<style scoped>\n",
              "    .dataframe tbody tr th:only-of-type {\n",
              "        vertical-align: middle;\n",
              "    }\n",
              "\n",
              "    .dataframe tbody tr th {\n",
              "        vertical-align: top;\n",
              "    }\n",
              "\n",
              "    .dataframe thead th {\n",
              "        text-align: right;\n",
              "    }\n",
              "</style>\n",
              "<table border=\"1\" class=\"dataframe\">\n",
              "  <thead>\n",
              "    <tr style=\"text-align: right;\">\n",
              "      <th></th>\n",
              "      <th>label</th>\n",
              "      <th>pixel0</th>\n",
              "      <th>pixel1</th>\n",
              "      <th>pixel2</th>\n",
              "      <th>pixel3</th>\n",
              "      <th>pixel4</th>\n",
              "      <th>pixel5</th>\n",
              "      <th>pixel6</th>\n",
              "      <th>pixel7</th>\n",
              "      <th>pixel8</th>\n",
              "      <th>...</th>\n",
              "      <th>pixel774</th>\n",
              "      <th>pixel775</th>\n",
              "      <th>pixel776</th>\n",
              "      <th>pixel777</th>\n",
              "      <th>pixel778</th>\n",
              "      <th>pixel779</th>\n",
              "      <th>pixel780</th>\n",
              "      <th>pixel781</th>\n",
              "      <th>pixel782</th>\n",
              "      <th>pixel783</th>\n",
              "    </tr>\n",
              "  </thead>\n",
              "  <tbody>\n",
              "    <tr>\n",
              "      <th>0</th>\n",
              "      <td>1</td>\n",
              "      <td>0</td>\n",
              "      <td>0</td>\n",
              "      <td>0</td>\n",
              "      <td>0</td>\n",
              "      <td>0</td>\n",
              "      <td>0</td>\n",
              "      <td>0</td>\n",
              "      <td>0</td>\n",
              "      <td>0</td>\n",
              "      <td>...</td>\n",
              "      <td>0</td>\n",
              "      <td>0</td>\n",
              "      <td>0</td>\n",
              "      <td>0</td>\n",
              "      <td>0</td>\n",
              "      <td>0</td>\n",
              "      <td>0</td>\n",
              "      <td>0</td>\n",
              "      <td>0</td>\n",
              "      <td>0</td>\n",
              "    </tr>\n",
              "    <tr>\n",
              "      <th>1</th>\n",
              "      <td>0</td>\n",
              "      <td>0</td>\n",
              "      <td>0</td>\n",
              "      <td>0</td>\n",
              "      <td>0</td>\n",
              "      <td>0</td>\n",
              "      <td>0</td>\n",
              "      <td>0</td>\n",
              "      <td>0</td>\n",
              "      <td>0</td>\n",
              "      <td>...</td>\n",
              "      <td>0</td>\n",
              "      <td>0</td>\n",
              "      <td>0</td>\n",
              "      <td>0</td>\n",
              "      <td>0</td>\n",
              "      <td>0</td>\n",
              "      <td>0</td>\n",
              "      <td>0</td>\n",
              "      <td>0</td>\n",
              "      <td>0</td>\n",
              "    </tr>\n",
              "    <tr>\n",
              "      <th>2</th>\n",
              "      <td>1</td>\n",
              "      <td>0</td>\n",
              "      <td>0</td>\n",
              "      <td>0</td>\n",
              "      <td>0</td>\n",
              "      <td>0</td>\n",
              "      <td>0</td>\n",
              "      <td>0</td>\n",
              "      <td>0</td>\n",
              "      <td>0</td>\n",
              "      <td>...</td>\n",
              "      <td>0</td>\n",
              "      <td>0</td>\n",
              "      <td>0</td>\n",
              "      <td>0</td>\n",
              "      <td>0</td>\n",
              "      <td>0</td>\n",
              "      <td>0</td>\n",
              "      <td>0</td>\n",
              "      <td>0</td>\n",
              "      <td>0</td>\n",
              "    </tr>\n",
              "    <tr>\n",
              "      <th>3</th>\n",
              "      <td>4</td>\n",
              "      <td>0</td>\n",
              "      <td>0</td>\n",
              "      <td>0</td>\n",
              "      <td>0</td>\n",
              "      <td>0</td>\n",
              "      <td>0</td>\n",
              "      <td>0</td>\n",
              "      <td>0</td>\n",
              "      <td>0</td>\n",
              "      <td>...</td>\n",
              "      <td>0</td>\n",
              "      <td>0</td>\n",
              "      <td>0</td>\n",
              "      <td>0</td>\n",
              "      <td>0</td>\n",
              "      <td>0</td>\n",
              "      <td>0</td>\n",
              "      <td>0</td>\n",
              "      <td>0</td>\n",
              "      <td>0</td>\n",
              "    </tr>\n",
              "    <tr>\n",
              "      <th>4</th>\n",
              "      <td>0</td>\n",
              "      <td>0</td>\n",
              "      <td>0</td>\n",
              "      <td>0</td>\n",
              "      <td>0</td>\n",
              "      <td>0</td>\n",
              "      <td>0</td>\n",
              "      <td>0</td>\n",
              "      <td>0</td>\n",
              "      <td>0</td>\n",
              "      <td>...</td>\n",
              "      <td>0</td>\n",
              "      <td>0</td>\n",
              "      <td>0</td>\n",
              "      <td>0</td>\n",
              "      <td>0</td>\n",
              "      <td>0</td>\n",
              "      <td>0</td>\n",
              "      <td>0</td>\n",
              "      <td>0</td>\n",
              "      <td>0</td>\n",
              "    </tr>\n",
              "  </tbody>\n",
              "</table>\n",
              "<p>5 rows × 785 columns</p>\n",
              "</div>\n",
              "      <button class=\"colab-df-convert\" onclick=\"convertToInteractive('df-ba6e1bd3-91bb-4c7a-954d-c3678b2700c7')\"\n",
              "              title=\"Convert this dataframe to an interactive table.\"\n",
              "              style=\"display:none;\">\n",
              "        \n",
              "  <svg xmlns=\"http://www.w3.org/2000/svg\" height=\"24px\"viewBox=\"0 0 24 24\"\n",
              "       width=\"24px\">\n",
              "    <path d=\"M0 0h24v24H0V0z\" fill=\"none\"/>\n",
              "    <path d=\"M18.56 5.44l.94 2.06.94-2.06 2.06-.94-2.06-.94-.94-2.06-.94 2.06-2.06.94zm-11 1L8.5 8.5l.94-2.06 2.06-.94-2.06-.94L8.5 2.5l-.94 2.06-2.06.94zm10 10l.94 2.06.94-2.06 2.06-.94-2.06-.94-.94-2.06-.94 2.06-2.06.94z\"/><path d=\"M17.41 7.96l-1.37-1.37c-.4-.4-.92-.59-1.43-.59-.52 0-1.04.2-1.43.59L10.3 9.45l-7.72 7.72c-.78.78-.78 2.05 0 2.83L4 21.41c.39.39.9.59 1.41.59.51 0 1.02-.2 1.41-.59l7.78-7.78 2.81-2.81c.8-.78.8-2.07 0-2.86zM5.41 20L4 18.59l7.72-7.72 1.47 1.35L5.41 20z\"/>\n",
              "  </svg>\n",
              "      </button>\n",
              "      \n",
              "  <style>\n",
              "    .colab-df-container {\n",
              "      display:flex;\n",
              "      flex-wrap:wrap;\n",
              "      gap: 12px;\n",
              "    }\n",
              "\n",
              "    .colab-df-convert {\n",
              "      background-color: #E8F0FE;\n",
              "      border: none;\n",
              "      border-radius: 50%;\n",
              "      cursor: pointer;\n",
              "      display: none;\n",
              "      fill: #1967D2;\n",
              "      height: 32px;\n",
              "      padding: 0 0 0 0;\n",
              "      width: 32px;\n",
              "    }\n",
              "\n",
              "    .colab-df-convert:hover {\n",
              "      background-color: #E2EBFA;\n",
              "      box-shadow: 0px 1px 2px rgba(60, 64, 67, 0.3), 0px 1px 3px 1px rgba(60, 64, 67, 0.15);\n",
              "      fill: #174EA6;\n",
              "    }\n",
              "\n",
              "    [theme=dark] .colab-df-convert {\n",
              "      background-color: #3B4455;\n",
              "      fill: #D2E3FC;\n",
              "    }\n",
              "\n",
              "    [theme=dark] .colab-df-convert:hover {\n",
              "      background-color: #434B5C;\n",
              "      box-shadow: 0px 1px 3px 1px rgba(0, 0, 0, 0.15);\n",
              "      filter: drop-shadow(0px 1px 2px rgba(0, 0, 0, 0.3));\n",
              "      fill: #FFFFFF;\n",
              "    }\n",
              "  </style>\n",
              "\n",
              "      <script>\n",
              "        const buttonEl =\n",
              "          document.querySelector('#df-ba6e1bd3-91bb-4c7a-954d-c3678b2700c7 button.colab-df-convert');\n",
              "        buttonEl.style.display =\n",
              "          google.colab.kernel.accessAllowed ? 'block' : 'none';\n",
              "\n",
              "        async function convertToInteractive(key) {\n",
              "          const element = document.querySelector('#df-ba6e1bd3-91bb-4c7a-954d-c3678b2700c7');\n",
              "          const dataTable =\n",
              "            await google.colab.kernel.invokeFunction('convertToInteractive',\n",
              "                                                     [key], {});\n",
              "          if (!dataTable) return;\n",
              "\n",
              "          const docLinkHtml = 'Like what you see? Visit the ' +\n",
              "            '<a target=\"_blank\" href=https://colab.research.google.com/notebooks/data_table.ipynb>data table notebook</a>'\n",
              "            + ' to learn more about interactive tables.';\n",
              "          element.innerHTML = '';\n",
              "          dataTable['output_type'] = 'display_data';\n",
              "          await google.colab.output.renderOutput(dataTable, element);\n",
              "          const docLink = document.createElement('div');\n",
              "          docLink.innerHTML = docLinkHtml;\n",
              "          element.appendChild(docLink);\n",
              "        }\n",
              "      </script>\n",
              "    </div>\n",
              "  </div>\n",
              "  "
            ]
          },
          "metadata": {},
          "execution_count": 6
        }
      ]
    },
    {
      "cell_type": "markdown",
      "source": [
        "**Train-Test Split: split the dataset into train and test only**"
      ],
      "metadata": {
        "id": "fmuvCS7teg5K"
      }
    },
    {
      "cell_type": "code",
      "source": [
        "x = df.drop('label', axis=1).values\n",
        "y = df['label'].values"
      ],
      "metadata": {
        "execution": {
          "iopub.status.busy": "2022-11-08T09:42:57.192523Z",
          "iopub.execute_input": "2022-11-08T09:42:57.192980Z",
          "iopub.status.idle": "2022-11-08T09:42:57.318600Z",
          "shell.execute_reply.started": "2022-11-08T09:42:57.192917Z",
          "shell.execute_reply": "2022-11-08T09:42:57.317582Z"
        },
        "trusted": true,
        "id": "HBfv4Ga8oATA"
      },
      "execution_count": null,
      "outputs": []
    },
    {
      "cell_type": "code",
      "source": [
        "X_train, X_test, y_train, y_test = train_test_split(x, y, test_size=0.2, random_state = 45)"
      ],
      "metadata": {
        "execution": {
          "iopub.status.busy": "2022-11-08T09:43:06.294504Z",
          "iopub.execute_input": "2022-11-08T09:43:06.294948Z",
          "iopub.status.idle": "2022-11-08T09:43:06.855130Z",
          "shell.execute_reply.started": "2022-11-08T09:43:06.294901Z",
          "shell.execute_reply": "2022-11-08T09:43:06.853551Z"
        },
        "trusted": true,
        "id": "KnjNEh7ooATB"
      },
      "execution_count": null,
      "outputs": []
    },
    {
      "cell_type": "markdown",
      "source": [
        "**Data Preprocessing: using StandardScaler**"
      ],
      "metadata": {
        "id": "3BfQ5JPzejKw"
      }
    },
    {
      "cell_type": "code",
      "source": [
        "scaler = StandardScaler()\n",
        "\n",
        "X_train_scaled = scaler.fit_transform(X_train)\n",
        "X_test_scaled = scaler.transform(X_test)"
      ],
      "metadata": {
        "execution": {
          "iopub.status.busy": "2022-11-08T09:43:06.858058Z",
          "iopub.execute_input": "2022-11-08T09:43:06.858619Z",
          "iopub.status.idle": "2022-11-08T09:43:07.364005Z",
          "shell.execute_reply.started": "2022-11-08T09:43:06.858570Z",
          "shell.execute_reply": "2022-11-08T09:43:07.362451Z"
        },
        "trusted": true,
        "id": "ZrujFfkMoATB"
      },
      "execution_count": null,
      "outputs": []
    },
    {
      "cell_type": "markdown",
      "source": [
        "**Training: use sklearn’s implementation of logistic regression. Perform hyperparameter tuning using either of the following cross validation schemes:**\n",
        "\n",
        "**a)\tRandomSearchCV: https://scikit-learn.org/stable/modules/generated/sklearn.model_selection.RandomizedSearchCV.html**\n",
        "\n",
        "**b)\tGridSearchCV: https://scikit-learn.org/stable/modules/generated/sklearn.model_selection.GridSearchCV.html**\n",
        "\n",
        "**In these schemes, you do not have to explicitly create a cross validation set. It will be done by these functions using K-fold cross validation.**\n",
        "\n",
        "**In logistic regression ‘C’ is a hyperparameter used for regularization**"
      ],
      "metadata": {
        "id": "oMRwaffyerJ8"
      }
    },
    {
      "cell_type": "markdown",
      "source": [
        "**Here I have used GridSearchCV scheme**"
      ],
      "metadata": {
        "id": "q-9pwyYJfv0z"
      }
    },
    {
      "cell_type": "code",
      "source": [
        "parameters = {'C': [0.01, 0.1, 1, 10]}\n",
        "\n",
        "grid = GridSearchCV(estimator=LogisticRegression(), param_grid=parameters, cv=4, verbose=2, return_train_score=True)\n",
        "grid.fit(X_train_scaled, y_train)"
      ],
      "metadata": {
        "execution": {
          "iopub.status.busy": "2022-11-08T09:43:07.365988Z",
          "iopub.execute_input": "2022-11-08T09:43:07.366978Z",
          "iopub.status.idle": "2022-11-08T09:46:18.253409Z",
          "shell.execute_reply.started": "2022-11-08T09:43:07.366919Z",
          "shell.execute_reply": "2022-11-08T09:46:18.251606Z"
        },
        "trusted": true,
        "colab": {
          "base_uri": "https://localhost:8080/"
        },
        "id": "yAj2LupzoATC",
        "outputId": "d28dcecb-6573-49df-a11f-323174a459c1"
      },
      "execution_count": null,
      "outputs": [
        {
          "output_type": "stream",
          "name": "stdout",
          "text": [
            "Fitting 4 folds for each of 4 candidates, totalling 16 fits\n",
            "[CV] END .............................................C=0.01; total time=  14.7s\n",
            "[CV] END .............................................C=0.01; total time=  14.5s\n",
            "[CV] END .............................................C=0.01; total time=  14.3s\n",
            "[CV] END .............................................C=0.01; total time=  14.2s\n",
            "[CV] END ..............................................C=0.1; total time=  13.9s\n",
            "[CV] END ..............................................C=0.1; total time=  14.3s\n",
            "[CV] END ..............................................C=0.1; total time=  14.4s\n",
            "[CV] END ..............................................C=0.1; total time=  14.0s\n",
            "[CV] END ................................................C=1; total time=  14.2s\n",
            "[CV] END ................................................C=1; total time=  13.8s\n",
            "[CV] END ................................................C=1; total time=  14.2s\n",
            "[CV] END ................................................C=1; total time=  14.1s\n",
            "[CV] END ...............................................C=10; total time=  14.1s\n",
            "[CV] END ...............................................C=10; total time=  14.0s\n",
            "[CV] END ...............................................C=10; total time=  13.8s\n",
            "[CV] END ...............................................C=10; total time=  13.9s\n"
          ]
        },
        {
          "output_type": "execute_result",
          "data": {
            "text/plain": [
              "GridSearchCV(cv=4, estimator=LogisticRegression(),\n",
              "             param_grid={'C': [0.01, 0.1, 1, 10]}, return_train_score=True,\n",
              "             verbose=2)"
            ]
          },
          "metadata": {},
          "execution_count": 10
        }
      ]
    },
    {
      "cell_type": "code",
      "source": [
        "grid.cv_results_"
      ],
      "metadata": {
        "execution": {
          "iopub.status.busy": "2022-11-08T09:46:18.258604Z",
          "iopub.execute_input": "2022-11-08T09:46:18.259997Z",
          "iopub.status.idle": "2022-11-08T09:46:18.283587Z",
          "shell.execute_reply.started": "2022-11-08T09:46:18.259904Z",
          "shell.execute_reply": "2022-11-08T09:46:18.281459Z"
        },
        "trusted": true,
        "colab": {
          "base_uri": "https://localhost:8080/"
        },
        "id": "mCBlgdGhoATC",
        "outputId": "2df0a908-b904-4627-a5e7-604b2bd8b96b"
      },
      "execution_count": null,
      "outputs": [
        {
          "output_type": "execute_result",
          "data": {
            "text/plain": [
              "{'mean_fit_time': array([14.36811972, 14.1221621 , 14.0192762 , 13.91152829]),\n",
              " 'std_fit_time': array([0.19526077, 0.22426028, 0.15694221, 0.12564916]),\n",
              " 'mean_score_time': array([0.0238927 , 0.02198964, 0.0227862 , 0.0221104 ]),\n",
              " 'std_score_time': array([0.00383885, 0.00040457, 0.00067718, 0.00037252]),\n",
              " 'param_C': masked_array(data=[0.01, 0.1, 1, 10],\n",
              "              mask=[False, False, False, False],\n",
              "        fill_value='?',\n",
              "             dtype=object),\n",
              " 'params': [{'C': 0.01}, {'C': 0.1}, {'C': 1}, {'C': 10}],\n",
              " 'split0_test_score': array([0.91369048, 0.90639881, 0.89508929, 0.88467262]),\n",
              " 'split1_test_score': array([0.92142857, 0.91279762, 0.89434524, 0.88482143]),\n",
              " 'split2_test_score': array([0.9171131 , 0.90625   , 0.88616071, 0.87589286]),\n",
              " 'split3_test_score': array([0.92083333, 0.91324405, 0.89300595, 0.88630952]),\n",
              " 'mean_test_score': array([0.91826637, 0.90967262, 0.8921503 , 0.88292411]),\n",
              " 'std_test_score': array([0.0031168 , 0.00335235, 0.00353775, 0.00410964]),\n",
              " 'rank_test_score': array([1, 2, 3, 4], dtype=int32),\n",
              " 'split0_train_score': array([0.94439484, 0.96160714, 0.97247024, 0.9733631 ]),\n",
              " 'split1_train_score': array([0.94196429, 0.96041667, 0.97301587, 0.97480159]),\n",
              " 'split2_train_score': array([0.94285714, 0.96344246, 0.97306548, 0.97698413]),\n",
              " 'split3_train_score': array([0.94161706, 0.9594246 , 0.97251984, 0.97519841]),\n",
              " 'mean_train_score': array([0.94270833, 0.96122272, 0.97276786, 0.97508681]),\n",
              " 'std_train_score': array([0.00107365, 0.00149649, 0.00027394, 0.00129081])}"
            ]
          },
          "metadata": {},
          "execution_count": 11
        }
      ]
    },
    {
      "cell_type": "markdown",
      "source": [
        "**Plot “hyperparameter vs. train-accuracy” and “hyperparameter vs. cv-accuracy” graphs.**"
      ],
      "metadata": {
        "id": "FdjkSSD4euir"
      }
    },
    {
      "cell_type": "code",
      "source": [
        "C_vals = [str(x) for x in parameters['C']]\n",
        "\n",
        "plt.xlabel(\"C\")\n",
        "plt.ylabel(\"cv-accuracy\")\n",
        "plt.scatter(C_vals, grid.cv_results_['mean_test_score'], color='black')\n",
        "plt.vlines(C_vals, 0, grid.cv_results_['mean_test_score'], linestyle=\"dashed\")\n",
        "plt.ylim(0.85,.95)\n",
        "plt.xticks(C_vals)\n",
        "plt.show()"
      ],
      "metadata": {
        "execution": {
          "iopub.status.busy": "2022-11-08T09:49:18.957767Z",
          "iopub.execute_input": "2022-11-08T09:49:18.958785Z",
          "iopub.status.idle": "2022-11-08T09:49:19.176032Z",
          "shell.execute_reply.started": "2022-11-08T09:49:18.958731Z",
          "shell.execute_reply": "2022-11-08T09:49:19.174420Z"
        },
        "trusted": true,
        "colab": {
          "base_uri": "https://localhost:8080/",
          "height": 279
        },
        "id": "LdT6e6ghoATD",
        "outputId": "ff8d5425-0e87-4f93-9786-676118586c48"
      },
      "execution_count": null,
      "outputs": [
        {
          "output_type": "display_data",
          "data": {
            "text/plain": [
              "<Figure size 432x288 with 1 Axes>"
            ],
            "image/png": "[encoded data removed]"
          },
          "metadata": {
            "needs_background": "light"
          }
        }
      ]
    },
    {
      "cell_type": "code",
      "source": [
        "plt.xlabel(\"C\")\n",
        "plt.ylabel(\"train-accuracy\")\n",
        "plt.scatter(C_vals, grid.cv_results_['mean_train_score'], color='black')\n",
        "plt.vlines(C_vals, 0, grid.cv_results_['mean_train_score'], linestyle=\"dashed\")\n",
        "plt.ylim(0.9,1.00)\n",
        "plt.xticks(C_vals)\n",
        "plt.show()"
      ],
      "metadata": {
        "execution": {
          "iopub.status.busy": "2022-11-08T09:49:35.246769Z",
          "iopub.execute_input": "2022-11-08T09:49:35.247271Z",
          "iopub.status.idle": "2022-11-08T09:49:35.458796Z",
          "shell.execute_reply.started": "2022-11-08T09:49:35.247235Z",
          "shell.execute_reply": "2022-11-08T09:49:35.456845Z"
        },
        "trusted": true,
        "colab": {
          "base_uri": "https://localhost:8080/",
          "height": 283
        },
        "id": "gbvt3RF-oATE",
        "outputId": "02eb4262-5646-4fdd-b52a-cf979af18e92"
      },
      "execution_count": null,
      "outputs": [
        {
          "output_type": "display_data",
          "data": {
            "text/plain": [
              "<Figure size 432x288 with 1 Axes>"
            ],
            "image/png": "[encoded data removed]"
          },
          "metadata": {
            "needs_background": "light"
          }
        }
      ]
    },
    {
      "cell_type": "code",
      "source": [
        "print(\"Best parameters:\", grid.best_params_)\n",
        "print(\"Best score:\", grid.best_score_)"
      ],
      "metadata": {
        "execution": {
          "iopub.status.busy": "2022-11-08T09:46:18.743601Z",
          "iopub.execute_input": "2022-11-08T09:46:18.744224Z",
          "iopub.status.idle": "2022-11-08T09:46:18.752439Z",
          "shell.execute_reply.started": "2022-11-08T09:46:18.744179Z",
          "shell.execute_reply": "2022-11-08T09:46:18.750658Z"
        },
        "trusted": true,
        "colab": {
          "base_uri": "https://localhost:8080/"
        },
        "id": "cgq20cJNoATE",
        "outputId": "617c4d2c-a1e3-4ba1-dab7-686678fe9ca2"
      },
      "execution_count": null,
      "outputs": [
        {
          "output_type": "stream",
          "name": "stdout",
          "text": [
            "Best parameters: {'C': 0.01}\n",
            "Best score: 0.918266369047619\n"
          ]
        }
      ]
    },
    {
      "cell_type": "markdown",
      "source": [
        "**Compute the accuracy on test data.**"
      ],
      "metadata": {
        "id": "nRLH2j1gezBY"
      }
    },
    {
      "cell_type": "code",
      "source": [
        "model = LogisticRegression(C=0.01)\n",
        "\n",
        "model.fit(X_train_scaled, y_train)\n",
        "y_pred = model.predict(X_test_scaled)\n",
        "\n",
        "accuracy_score(y_test, y_pred)"
      ],
      "metadata": {
        "execution": {
          "iopub.status.busy": "2022-11-08T09:46:18.754235Z",
          "iopub.execute_input": "2022-11-08T09:46:18.754639Z",
          "iopub.status.idle": "2022-11-08T09:46:33.317728Z",
          "shell.execute_reply.started": "2022-11-08T09:46:18.754603Z",
          "shell.execute_reply": "2022-11-08T09:46:33.316009Z"
        },
        "trusted": true,
        "colab": {
          "base_uri": "https://localhost:8080/"
        },
        "id": "BpNWQYHxoATF",
        "outputId": "66c29944-8cd0-460d-ab3d-07f882537c5b"
      },
      "execution_count": null,
      "outputs": [
        {
          "output_type": "execute_result",
          "data": {
            "text/plain": [
              "0.916547619047619"
            ]
          },
          "metadata": {},
          "execution_count": 15
        }
      ]
    },
    {
      "cell_type": "code",
      "source": [
        "for c in parameters['C']:\n",
        "    model = LogisticRegression(C=c)\n",
        "\n",
        "    model.fit(X_train_scaled, y_train)\n",
        "    y_pred = model.predict(X_test_scaled)\n",
        "\n",
        "    print(c, accuracy_score(y_test, y_pred))"
      ],
      "metadata": {
        "execution": {
          "iopub.status.busy": "2022-11-08T09:46:33.320720Z",
          "iopub.execute_input": "2022-11-08T09:46:33.322150Z",
          "iopub.status.idle": "2022-11-08T09:47:40.872919Z",
          "shell.execute_reply.started": "2022-11-08T09:46:33.322066Z",
          "shell.execute_reply": "2022-11-08T09:47:40.869619Z"
        },
        "trusted": true,
        "colab": {
          "base_uri": "https://localhost:8080/"
        },
        "id": "mY3NL5_PoATF",
        "outputId": "74f2581c-dbc4-47c6-d429-4621e1b73207"
      },
      "execution_count": null,
      "outputs": [
        {
          "output_type": "stream",
          "name": "stdout",
          "text": [
            "0.01 0.916547619047619\n",
            "0.1 0.9121428571428571\n",
            "1 0.9004761904761904\n",
            "10 0.8961904761904762\n"
          ]
        }
      ]
    }
  ]
}