{
  "nbformat": 4,
  "nbformat_minor": 0,
  "metadata": {
    "colab": {
      "provenance": []
    },
    "kernelspec": {
      "name": "python3",
      "display_name": "Python 3"
    },
    "language_info": {
      "name": "python"
    }
  },
  "cells": [
    {
      "cell_type": "markdown",
      "source": [
        "\n",
        "\n",
        "---\n",
        "\n",
        "\n",
        "**<center>Pandit Deendayal Energy University**<br>\n",
        "**School of Technology**<br>\n",
        "**Machine Learning Lab (20CP401P)**<br>\n",
        "**B.Tech-Computer Science & Engineering (Sem-VII)**<br>\n",
        "\n",
        "\n",
        "Name: Mire Kishorkumar Patel<br>\n",
        "Roll No.: 19BCP080<br>\n",
        "Branch: Computer Science & Engineering<br>\n",
        "\n",
        "Lab 1 Assignment<br>\n",
        "Python Practice\n",
        "\n",
        "\n",
        "---\n"
      ],
      "metadata": {
        "id": "VjcS2eOLBnwp"
      }
    },
    {
      "cell_type": "markdown",
      "source": [
        "# **MACHINE LEARNING LAB - 1: Python Practice**"
      ],
      "metadata": {
        "id": "fA9HyHDFf-1D"
      }
    },
    {
      "cell_type": "markdown",
      "source": [
        "**• PROBLEM STATEMENT : Python Practice Assignment**"
      ],
      "metadata": {
        "id": "ohyVwF1LtMfN"
      }
    },
    {
      "cell_type": "markdown",
      "source": [
        "**Q1.** Write a function that converts a decimal number to binary number."
      ],
      "metadata": {
        "id": "SXRWDEoafsxk"
      }
    },
    {
      "cell_type": "code",
      "source": [
        " # Function to converts decimal number to binary number\n",
        "def DecimalToBinary(n):\n",
        "  ans=''\n",
        "  while n > 1:\n",
        "    ans = str(n % 2)+ ans\n",
        "    n = n // 2\n",
        "  return str(n)+ans"
      ],
      "metadata": {
        "id": "jIi9SNXNkWzU"
      },
      "execution_count": 1,
      "outputs": []
    },
    {
      "cell_type": "code",
      "source": [
        "x = int(input(\"Enter the decimal number: \"))\n",
        "print(\"Solution: Binary number for \\\"\", x,\"\\\" :\", DecimalToBinary(x))"
      ],
      "metadata": {
        "colab": {
          "base_uri": "https://localhost:8080/",
          "height": 0
        },
        "id": "egJgihI-979o",
        "outputId": "0e225e3a-9a3c-4b7a-e18a-d383f6747397"
      },
      "execution_count": 6,
      "outputs": [
        {
          "output_type": "stream",
          "name": "stdout",
          "text": [
            "Enter the decimal number: 2\n",
            "Solution: Binary number for \" 2 \" : 10\n"
          ]
        }
      ]
    },
    {
      "cell_type": "code",
      "source": [
        "x = int(input(\"Enter the decimal number: \"))\n",
        "print(\"Solution: Binary number for \\\"\", x,\"\\\" :\", DecimalToBinary(x))"
      ],
      "metadata": {
        "colab": {
          "base_uri": "https://localhost:8080/",
          "height": 0
        },
        "id": "Oxyg--zSDzoK",
        "outputId": "2a86e6b7-e639-44d2-d215-fe743d3e8ee9"
      },
      "execution_count": 7,
      "outputs": [
        {
          "output_type": "stream",
          "name": "stdout",
          "text": [
            "Enter the decimal number: 255\n",
            "Solution: Binary number for \" 255 \" : 11111111\n"
          ]
        }
      ]
    },
    {
      "cell_type": "markdown",
      "source": [
        "**Q2.** Write a function to compute the sigmoid of a vector of values. <br> \n",
        "A sigmoid of a real number $x$ is defind as $\\sigma(x)$ = $\\frac{1}{1+e^-x}$ <br>\n",
        "For example:\n",
        "Input: $[x_{1}, x_{2}, x_{3}, x_{4}]$ <br>\n",
        "Output: $[\\sigma{(x_{1})}, \\sigma{(x_{2})}, \\sigma{(x_{3})}, \\sigma{(x_{4})}]$"
      ],
      "metadata": {
        "id": "xt7kX48_0XaV"
      }
    },
    {
      "cell_type": "code",
      "source": [
        "import numpy as np\n",
        "\n",
        "# Function to compute the sigmoid of a vector of values\n",
        "def Sigmoid(n):\n",
        "  return 1/(1+np.exp(-n))"
      ],
      "metadata": {
        "id": "8Bz_ilfl4URb"
      },
      "execution_count": 8,
      "outputs": []
    },
    {
      "cell_type": "code",
      "source": [
        "def solution(n):\n",
        "  output = []\n",
        "  for i in n:\n",
        "    output.append(Sigmoid(float(i)))\n",
        "  print(output)"
      ],
      "metadata": {
        "id": "C8CWjt-VLh6L"
      },
      "execution_count": 21,
      "outputs": []
    },
    {
      "cell_type": "code",
      "source": [
        "n = input(\"Enter the values: \").split(\",\")\n",
        "print(\"Input: \", n)\n",
        "print(\"Output: \",end=\"\")\n",
        "solution(n)"
      ],
      "metadata": {
        "colab": {
          "base_uri": "https://localhost:8080/",
          "height": 0
        },
        "id": "ljk4gA8IL0vQ",
        "outputId": "c36dfc85-1cb7-4a3e-9a8a-66f87b321af4"
      },
      "execution_count": 22,
      "outputs": [
        {
          "output_type": "stream",
          "name": "stdout",
          "text": [
            "Enter the values: 1,2.6,3.2\n",
            "Input:  ['1', '2.6', '3.2']\n",
            "Output: [0.7310585786300049, 0.9308615796566533, 0.9608342772032357]\n"
          ]
        }
      ]
    },
    {
      "cell_type": "markdown",
      "source": [
        "**Q3.** Write a function to compute the derivative of the sigmoid function with respect to its input $x$. Here, the $x$ is a vector. <br> \n",
        "The derivative of a sigmoid is defined as: $\\sigma(x)(1 - \\sigma(x))$\n",
        "<br>\n",
        "*TRY TO PROVE THIS IN YOUR COPY*"
      ],
      "metadata": {
        "id": "pZ7WEw2O4uA5"
      }
    },
    {
      "cell_type": "code",
      "source": [
        "# Function to compute the derivative of the sigmoid function\n",
        "def SigmoidDerivation(n):\n",
        "  return Sigmoid(n) * (1-Sigmoid(n))"
      ],
      "metadata": {
        "id": "0L1pX5VX5rFP"
      },
      "execution_count": 23,
      "outputs": []
    },
    {
      "cell_type": "code",
      "source": [
        "def solution(n):\n",
        "  output = []\n",
        "  for i in n:\n",
        "    output.append(SigmoidDerivation(float(i)))\n",
        "  print(output)"
      ],
      "metadata": {
        "id": "CrVoCGLQOCPg"
      },
      "execution_count": 25,
      "outputs": []
    },
    {
      "cell_type": "code",
      "source": [
        "n = input(\"Enter the values: \").split(\",\")\n",
        "print(\"Input: \", n)\n",
        "print(\"Output: \",end=\"\")\n",
        "solution(n)"
      ],
      "metadata": {
        "colab": {
          "base_uri": "https://localhost:8080/",
          "height": 0
        },
        "id": "BDg6ngUXOMP9",
        "outputId": "2d7b25c9-afec-4cbf-debe-25809c7ed133"
      },
      "execution_count": 26,
      "outputs": [
        {
          "output_type": "stream",
          "name": "stdout",
          "text": [
            "Enter the values: 1,2.6,3.2\n",
            "Input:  ['1', '2.6', '3.2']\n",
            "Output: [0.19661193324148185, 0.06435829917577342, 0.03763176895457135]\n"
          ]
        }
      ]
    },
    {
      "cell_type": "markdown",
      "source": [
        "**Q4.** Write a function to normalize the rows of a matrix. After applying this function to an input matrix $x$ of size $m \\times n$, each row of $x$ should be a vector of unit length."
      ],
      "metadata": {
        "id": "hbwpF7Uo6Cqp"
      }
    },
    {
      "cell_type": "code",
      "source": [
        "def nor(n):\n",
        "  y = np.linalg.norm(n, axis=1)\n",
        "  return np.divide(n.T, y).T"
      ],
      "metadata": {
        "id": "PTn3Oh_761Ds"
      },
      "execution_count": null,
      "outputs": []
    },
    {
      "cell_type": "code",
      "source": [
        "nor(np.array([[1,2,3],[3,2,4]]))"
      ],
      "metadata": {
        "colab": {
          "base_uri": "https://localhost:8080/"
        },
        "id": "8wpXCmOKBZnP",
        "outputId": "d70fb2d8-1e1d-4399-a74f-4e5227179ae4"
      },
      "execution_count": null,
      "outputs": [
        {
          "output_type": "execute_result",
          "data": {
            "text/plain": [
              "array([[0.26726124, 0.53452248, 0.80178373],\n",
              "       [0.55708601, 0.37139068, 0.74278135]])"
            ]
          },
          "metadata": {},
          "execution_count": 66
        }
      ]
    },
    {
      "cell_type": "markdown",
      "source": [
        "**Q5.** Write a program which can map() and filter() to make a list whose elements are cube of even numbers in a list."
      ],
      "metadata": {
        "id": "fscgrzEXgV1s"
      }
    },
    {
      "cell_type": "code",
      "source": [
        "def CubeOfEvens(n):\n",
        "  return list(map(lambda x:x**3, filter(lambda x:x%2==0, n)))"
      ],
      "metadata": {
        "id": "JxsehLI_OubS"
      },
      "execution_count": 27,
      "outputs": []
    },
    {
      "cell_type": "code",
      "source": [
        "x = [1,2,3,4,5,6,7]\n",
        "print(\"Input:\", x)\n",
        "print(\"Output: \", end=\"\")\n",
        "CubeOfEvens(x)"
      ],
      "metadata": {
        "colab": {
          "base_uri": "https://localhost:8080/",
          "height": 0
        },
        "id": "n3orn9ezO8Bl",
        "outputId": "237491ec-94b3-4105-d2e7-5de636620d24"
      },
      "execution_count": 31,
      "outputs": [
        {
          "output_type": "stream",
          "name": "stdout",
          "text": [
            "Input: [1, 2, 3, 4, 5, 6, 7]\n",
            "Output: "
          ]
        },
        {
          "output_type": "execute_result",
          "data": {
            "text/plain": [
              "[8, 64, 216]"
            ]
          },
          "metadata": {},
          "execution_count": 31
        }
      ]
    },
    {
      "cell_type": "markdown",
      "source": [
        "\n",
        "**Q6.** consider the marks list of class students given two lists <br>\n",
        "Students = ['student1','student2','student3','student4','student5','student6','student7','student8','student9','student10'] <br>\n",
        "Marks = [45, 78, 12, 14, 48, 43, 45, 98, 35, 80] <br>\n",
        "from the above two lists the Student[0] got Marks[0],  Student[1] got Marks[1] and so on <br><br>\n",
        "your task is to print the name of students <br>\n",
        "<strong>a. Who got top 5 ranks, in the descending order of marks</strong> <br>\n",
        "<strong>b. Who got least 5 ranks, in the increasing order of marks</strong><br>\n",
        "<strong>d. Who got marks between  &gt;25th percentile &lt;75th percentile, in the increasing order of marks</strong>\n",
        "\n",
        "<pre>\n",
        "Ex 1: \n",
        "Students=['student1','student2','student3','student4','student5','student6','student7','student8','student9','student10'] \n",
        "Marks = [45, 78, 12, 14, 48, 43, 47, 98, 35, 80]\n",
        "a. \n",
        "student8  98\n",
        "student10 80\n",
        "student2  78\n",
        "student5  48\n",
        "student7  47\n",
        "b.\n",
        "student3 12\n",
        "student4 14\n",
        "student9 35\n",
        "student6 43\n",
        "student1 45\n",
        "c.\n",
        "student9 35\n",
        "student6 43\n",
        "student1 45\n",
        "student7 47\n",
        "student5 48\n",
        "</pre>"
      ],
      "metadata": {
        "id": "Du2HiJZzcqA9"
      }
    },
    {
      "cell_type": "code",
      "execution_count": null,
      "metadata": {
        "id": "jmQPiIBMcWpa",
        "colab": {
          "base_uri": "https://localhost:8080/"
        },
        "outputId": "7b32a5c5-a06a-414d-bf8d-a3e8cbbbd579"
      },
      "outputs": [
        {
          "output_type": "stream",
          "name": "stdout",
          "text": [
            "Students = ['student1' 'student2' 'student3' 'student4' 'student5' 'student6'\n",
            " 'student7' 'student8' 'student9' 'student10']\n",
            "Marks = [45 78 12 14 48 43 47 98 35 80]\n"
          ]
        }
      ],
      "source": [
        "import numpy as np\n",
        "\n",
        "Students= np.array(['student1','student2','student3','student4','student5','student6','student7','student8','student9','student10'])\n",
        "Marks = np.array([45, 78, 12, 14, 48, 43, 47, 98, 35, 80])\n",
        "\n",
        "print(\"Students =\",Students)\n",
        "print(\"Marks =\",Marks)"
      ]
    },
    {
      "cell_type": "code",
      "source": [
        "x = np.argsort(Marks)\n",
        "x = x[::-1]\n",
        "# print(x)\n",
        "print(\"Solution-a :\")\n",
        "print(Students[x[:5]])\n",
        "print(Marks[x[:5]])"
      ],
      "metadata": {
        "colab": {
          "base_uri": "https://localhost:8080/"
        },
        "id": "SOiqgIE7IKkS",
        "outputId": "41cf640a-e0e1-41be-9200-d37396653634"
      },
      "execution_count": null,
      "outputs": [
        {
          "output_type": "stream",
          "name": "stdout",
          "text": [
            "Solution-a :\n",
            "['student8' 'student10' 'student2' 'student5' 'student7']\n",
            "[98 80 78 48 47]\n"
          ]
        }
      ]
    },
    {
      "cell_type": "code",
      "source": [
        "x = x[::-1]\n",
        "# print(x)\n",
        "print(\"Solution-b :\")\n",
        "print(Students[x[:5]])\n",
        "print(Marks[x[:5]])"
      ],
      "metadata": {
        "colab": {
          "base_uri": "https://localhost:8080/"
        },
        "id": "Zzzl21QuIv49",
        "outputId": "b31cc30c-34ce-48a4-96d0-2d87da4697c6"
      },
      "execution_count": null,
      "outputs": [
        {
          "output_type": "stream",
          "name": "stdout",
          "text": [
            "Solution-b :\n",
            "['student3' 'student4' 'student9' 'student6' 'student1']\n",
            "[12 14 35 43 45]\n"
          ]
        }
      ]
    },
    {
      "cell_type": "code",
      "source": [
        "start = len(Students)//2//2\n",
        "stop = len(Students)//2 + start\n",
        "print(\"Solution-c :\")\n",
        "print(Students[x[start:stop]])\n",
        "print(Marks[x[start:stop]])"
      ],
      "metadata": {
        "colab": {
          "base_uri": "https://localhost:8080/"
        },
        "id": "_LSikcHxJD-0",
        "outputId": "c9d90426-249c-4723-db29-9297a4275d93"
      },
      "execution_count": null,
      "outputs": [
        {
          "output_type": "stream",
          "name": "stdout",
          "text": [
            "Solution-c :\n",
            "['student9' 'student6' 'student1' 'student7' 'student5']\n",
            "[35 43 45 47 48]\n"
          ]
        }
      ]
    },
    {
      "cell_type": "markdown",
      "source": [
        "**Q7.** consider you have given n data points in the form of list of tuples like S=[(x1,y1),(x2,y2),(x3,y3),(x4,y4),(x5,y5),..,(xn,yn)] and a point P=(p,q) <br> your task is to find 5 closest points(based on cosine distance) in S from P\n",
        "<brs (x,y) and (p,q) is defind as $cos^{-1}(\\frac{(x\\cdot p+y\\cdot q)}{\\sqrt(x^2+y^2)\\cdot\\sqrt(p^2+q^2)})$>cosine distance between two point\n",
        "<pre>\n",
        "Ex:\n",
        "\n",
        "S= [(1,2),(3,4),(-1,1),(6,-7),(0, 6),(-5,-8),(-1,-1)(6,0),(1,-1)]\n",
        "P= (3,-4)\n",
        "\n",
        "Output:\n",
        "(6,-7)\n",
        "(1,-1)\n",
        "(6,0)\n",
        "(-5,-8)\n",
        "(-1,-1)\n",
        "</pre>"
      ],
      "metadata": {
        "id": "OqdED0G6dH_0"
      }
    },
    {
      "cell_type": "code",
      "source": [
        "# Function for cosine distance\n",
        "def CosineDist(x, p):\n",
        "    return np.arccos(np.divide((x[0]*p[0]+x[1]*p[1]), np.sqrt(x[0]**2+x[1]**2)*np.sqrt(p[0]**2+p[1]**2)))\n",
        "\n",
        "CosineDist((1,2), (3, -4))"
      ],
      "metadata": {
        "id": "OZmPOIp-d3sN",
        "colab": {
          "base_uri": "https://localhost:8080/"
        },
        "outputId": "13b86b71-e643-45e5-cf52-34e434436a29"
      },
      "execution_count": null,
      "outputs": [
        {
          "output_type": "execute_result",
          "data": {
            "text/plain": [
              "2.0344439357957027"
            ]
          },
          "metadata": {},
          "execution_count": 73
        }
      ]
    },
    {
      "cell_type": "code",
      "source": [
        "# Function for cosine distance\n",
        "def CosineDist(x, y, p, q):\n",
        "    return np.arccos(np.divide((x*p+y*q), np.sqrt(x**2+y**2)*np.sqrt(p**2+q**2)))\n",
        "\n",
        "x = np.array([1,3,-1,6,0,-5,-1,6,1])\n",
        "y = np.array([2,4,1,-7,6,-8,-1,0,-1])\n",
        "p, q = 3, -4\n",
        "\n",
        "dist = CosineDist(x, y, p, q)\n",
        "dist_arg = dist.argsort()\n",
        "\n",
        "x[dist_arg[:5]]\n",
        "y[dist_arg[:5]]\n",
        "z = map(lambda a, b: (a, b), x[dist_arg[:5]], y[dist_arg[:5]])\n",
        "list(z)"
      ],
      "metadata": {
        "colab": {
          "base_uri": "https://localhost:8080/"
        },
        "id": "hndwfShaLjRk",
        "outputId": "abc17cd5-1c8d-4685-86f9-a3488a172386"
      },
      "execution_count": null,
      "outputs": [
        {
          "output_type": "execute_result",
          "data": {
            "text/plain": [
              "[(6, -7), (1, -1), (6, 0), (-5, -8), (-1, -1)]"
            ]
          },
          "metadata": {},
          "execution_count": 74
        }
      ]
    },
    {
      "cell_type": "markdown",
      "source": [
        "**Q8:** Given two sentences S1, S2\n",
        "You will be given a list of lists, each sublist will be of length 2 i.e. [[x,y],[p,q],[l,m]..[r,s]]\n",
        "consider its like a matrix of n rows and two columns\n",
        "\n",
        "a. the first column Y will contain interger values <br>\n",
        "b. the second column $Y_{score}$ will be having float values <br>\n",
        "Your task is to find the value of $f(Y,Y_{score}) = -1*\\frac{1}{n}\\Sigma_{for each Y,Y_{score} pair}(Ylog10(Y_{score})+(1-Y)log10(1-Y_{score}))$ here n is the number of rows in the matrix\n",
        "<pre>\n",
        "Ex:\n",
        "[[1, 0.4], [0, 0.5], [0, 0.9], [0, 0.3], [0, 0.6], [1, 0.1], [1, 0.9], [1, 0.8]]\n",
        "output:\n",
        "0.4243099\n",
        "</pre>\n",
        "$\\frac{-1}{8}\\cdot((1\\cdot log_{10}(0.4)+0\\cdot log_{10}(0.6))+(0\\cdot log_{10}(0.5)+1\\cdot log_{10}(0.5)) + ... + (1\\cdot log_{10}(0.8)+0\\cdot log_{10}(0.2)) )$"
      ],
      "metadata": {
        "id": "6VHCfjFod6Nc"
      }
    },
    {
      "cell_type": "code",
      "source": [
        "def Func(x, y):\n",
        "    z = map(lambda a, b: a*np.log10(b)+(1-a)*np.log10(1-b), x, y)\n",
        "    z = np.array(list(z))\n",
        "\n",
        "    return z.sum()/len(x)*-1\n",
        "\n",
        "a = np.array([1,0,0,0,0,1,1,1])\n",
        "b = np.array([0.4, 0.5, 0.9, 0.3, 0.6, 0.1, 0.9, 0.8])\n",
        "Func(a, b)"
      ],
      "metadata": {
        "id": "Gdq7LciXeqJ1",
        "colab": {
          "base_uri": "https://localhost:8080/"
        },
        "outputId": "5c9a7e52-f319-47e5-a6a8-8054adc00583"
      },
      "execution_count": null,
      "outputs": [
        {
          "output_type": "execute_result",
          "data": {
            "text/plain": [
              "0.42430993457031635"
            ]
          },
          "metadata": {},
          "execution_count": 75
        }
      ]
    }
  ]
}